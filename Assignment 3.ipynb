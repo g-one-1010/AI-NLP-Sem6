{
 "cells": [
  {
   "attachments": {},
   "cell_type": "markdown",
   "metadata": {},
   "source": [
    "# Jeevan Singh\n",
    "# 102003691\n",
    "# 3COE27"
   ]
  },
  {
   "cell_type": "code",
   "execution_count": 4,
   "metadata": {},
   "outputs": [],
   "source": [
    "import numpy as np\n",
    "import pandas as pd\n",
    "import matplotlib.pyplot as plt\n",
    "import tensorflow as tf"
   ]
  },
  {
   "cell_type": "code",
   "execution_count": 6,
   "metadata": {},
   "outputs": [],
   "source": [
    "from tensorflow.keras.datasets import fashion_mnist"
   ]
  },
  {
   "cell_type": "code",
   "execution_count": 7,
   "metadata": {},
   "outputs": [
    {
     "name": "stdout",
     "output_type": "stream",
     "text": [
      "Downloading data from https://storage.googleapis.com/tensorflow/tf-keras-datasets/train-labels-idx1-ubyte.gz\n",
      "29515/29515 [==============================] - 0s 1us/step\n",
      "Downloading data from https://storage.googleapis.com/tensorflow/tf-keras-datasets/train-images-idx3-ubyte.gz\n",
      "26421880/26421880 [==============================] - 5s 0us/step\n",
      "Downloading data from https://storage.googleapis.com/tensorflow/tf-keras-datasets/t10k-labels-idx1-ubyte.gz\n",
      "5148/5148 [==============================] - 0s 0s/step\n",
      "Downloading data from https://storage.googleapis.com/tensorflow/tf-keras-datasets/t10k-images-idx3-ubyte.gz\n",
      "4422102/4422102 [==============================] - 1s 0us/step\n"
     ]
    }
   ],
   "source": [
    "(x_train, y_train), (x_test, y_test) = fashion_mnist.load_data()"
   ]
  },
  {
   "cell_type": "code",
   "execution_count": 8,
   "metadata": {},
   "outputs": [
    {
     "data": {
      "text/plain": [
       "((60000, 28, 28), (60000,), (10000, 28, 28), (10000,))"
      ]
     },
     "execution_count": 8,
     "metadata": {},
     "output_type": "execute_result"
    }
   ],
   "source": [
    "x_train.shape, y_train.shape, x_test.shape, y_test.shape"
   ]
  },
  {
   "cell_type": "code",
   "execution_count": 11,
   "metadata": {},
   "outputs": [],
   "source": [
    "x_train = x_train.reshape(60000, 784)\n",
    "y_train = y_train.reshape(60000, 1)\n",
    "x_test = x_test.reshape(10000, 784)\n",
    "y_test = y_test.reshape(10000, 1)"
   ]
  },
  {
   "cell_type": "code",
   "execution_count": 12,
   "metadata": {},
   "outputs": [
    {
     "data": {
      "text/plain": [
       "((60000, 784), (60000, 1), (10000, 784), (10000, 1))"
      ]
     },
     "execution_count": 12,
     "metadata": {},
     "output_type": "execute_result"
    }
   ],
   "source": [
    "x_train.shape, y_train.shape, x_test.shape, y_test.shape\n"
   ]
  },
  {
   "cell_type": "code",
   "execution_count": 15,
   "metadata": {},
   "outputs": [
    {
     "data": {
      "text/html": [
       "<div>\n",
       "<style scoped>\n",
       "    .dataframe tbody tr th:only-of-type {\n",
       "        vertical-align: middle;\n",
       "    }\n",
       "\n",
       "    .dataframe tbody tr th {\n",
       "        vertical-align: top;\n",
       "    }\n",
       "\n",
       "    .dataframe thead th {\n",
       "        text-align: right;\n",
       "    }\n",
       "</style>\n",
       "<table border=\"1\" class=\"dataframe\">\n",
       "  <thead>\n",
       "    <tr style=\"text-align: right;\">\n",
       "      <th></th>\n",
       "      <th>0</th>\n",
       "      <th>1</th>\n",
       "      <th>2</th>\n",
       "      <th>3</th>\n",
       "      <th>4</th>\n",
       "      <th>5</th>\n",
       "      <th>6</th>\n",
       "      <th>7</th>\n",
       "      <th>8</th>\n",
       "      <th>9</th>\n",
       "      <th>...</th>\n",
       "      <th>775</th>\n",
       "      <th>776</th>\n",
       "      <th>777</th>\n",
       "      <th>778</th>\n",
       "      <th>779</th>\n",
       "      <th>780</th>\n",
       "      <th>781</th>\n",
       "      <th>782</th>\n",
       "      <th>783</th>\n",
       "      <th>label</th>\n",
       "    </tr>\n",
       "  </thead>\n",
       "  <tbody>\n",
       "    <tr>\n",
       "      <th>0</th>\n",
       "      <td>0</td>\n",
       "      <td>0</td>\n",
       "      <td>0</td>\n",
       "      <td>0</td>\n",
       "      <td>0</td>\n",
       "      <td>0</td>\n",
       "      <td>0</td>\n",
       "      <td>0</td>\n",
       "      <td>0</td>\n",
       "      <td>0</td>\n",
       "      <td>...</td>\n",
       "      <td>0</td>\n",
       "      <td>0</td>\n",
       "      <td>0</td>\n",
       "      <td>0</td>\n",
       "      <td>0</td>\n",
       "      <td>0</td>\n",
       "      <td>0</td>\n",
       "      <td>0</td>\n",
       "      <td>0</td>\n",
       "      <td>9</td>\n",
       "    </tr>\n",
       "    <tr>\n",
       "      <th>1</th>\n",
       "      <td>0</td>\n",
       "      <td>0</td>\n",
       "      <td>0</td>\n",
       "      <td>0</td>\n",
       "      <td>0</td>\n",
       "      <td>1</td>\n",
       "      <td>0</td>\n",
       "      <td>0</td>\n",
       "      <td>0</td>\n",
       "      <td>0</td>\n",
       "      <td>...</td>\n",
       "      <td>114</td>\n",
       "      <td>130</td>\n",
       "      <td>76</td>\n",
       "      <td>0</td>\n",
       "      <td>0</td>\n",
       "      <td>0</td>\n",
       "      <td>0</td>\n",
       "      <td>0</td>\n",
       "      <td>0</td>\n",
       "      <td>0</td>\n",
       "    </tr>\n",
       "    <tr>\n",
       "      <th>2</th>\n",
       "      <td>0</td>\n",
       "      <td>0</td>\n",
       "      <td>0</td>\n",
       "      <td>0</td>\n",
       "      <td>0</td>\n",
       "      <td>0</td>\n",
       "      <td>0</td>\n",
       "      <td>0</td>\n",
       "      <td>0</td>\n",
       "      <td>22</td>\n",
       "      <td>...</td>\n",
       "      <td>0</td>\n",
       "      <td>1</td>\n",
       "      <td>0</td>\n",
       "      <td>0</td>\n",
       "      <td>0</td>\n",
       "      <td>0</td>\n",
       "      <td>0</td>\n",
       "      <td>0</td>\n",
       "      <td>0</td>\n",
       "      <td>0</td>\n",
       "    </tr>\n",
       "    <tr>\n",
       "      <th>3</th>\n",
       "      <td>0</td>\n",
       "      <td>0</td>\n",
       "      <td>0</td>\n",
       "      <td>0</td>\n",
       "      <td>0</td>\n",
       "      <td>0</td>\n",
       "      <td>0</td>\n",
       "      <td>0</td>\n",
       "      <td>33</td>\n",
       "      <td>96</td>\n",
       "      <td>...</td>\n",
       "      <td>0</td>\n",
       "      <td>0</td>\n",
       "      <td>0</td>\n",
       "      <td>0</td>\n",
       "      <td>0</td>\n",
       "      <td>0</td>\n",
       "      <td>0</td>\n",
       "      <td>0</td>\n",
       "      <td>0</td>\n",
       "      <td>3</td>\n",
       "    </tr>\n",
       "    <tr>\n",
       "      <th>4</th>\n",
       "      <td>0</td>\n",
       "      <td>0</td>\n",
       "      <td>0</td>\n",
       "      <td>0</td>\n",
       "      <td>0</td>\n",
       "      <td>0</td>\n",
       "      <td>0</td>\n",
       "      <td>0</td>\n",
       "      <td>0</td>\n",
       "      <td>0</td>\n",
       "      <td>...</td>\n",
       "      <td>0</td>\n",
       "      <td>0</td>\n",
       "      <td>0</td>\n",
       "      <td>0</td>\n",
       "      <td>0</td>\n",
       "      <td>0</td>\n",
       "      <td>0</td>\n",
       "      <td>0</td>\n",
       "      <td>0</td>\n",
       "      <td>0</td>\n",
       "    </tr>\n",
       "  </tbody>\n",
       "</table>\n",
       "<p>5 rows × 785 columns</p>\n",
       "</div>"
      ],
      "text/plain": [
       "   0  1  2  3  4  5  6  7   8   9  ...  775  776  777  778  779  780  781  \\\n",
       "0  0  0  0  0  0  0  0  0   0   0  ...    0    0    0    0    0    0    0   \n",
       "1  0  0  0  0  0  1  0  0   0   0  ...  114  130   76    0    0    0    0   \n",
       "2  0  0  0  0  0  0  0  0   0  22  ...    0    1    0    0    0    0    0   \n",
       "3  0  0  0  0  0  0  0  0  33  96  ...    0    0    0    0    0    0    0   \n",
       "4  0  0  0  0  0  0  0  0   0   0  ...    0    0    0    0    0    0    0   \n",
       "\n",
       "   782  783  label  \n",
       "0    0    0      9  \n",
       "1    0    0      0  \n",
       "2    0    0      0  \n",
       "3    0    0      3  \n",
       "4    0    0      0  \n",
       "\n",
       "[5 rows x 785 columns]"
      ]
     },
     "execution_count": 15,
     "metadata": {},
     "output_type": "execute_result"
    }
   ],
   "source": [
    "train = pd.DataFrame(x_train)\n",
    "train['label'] = y_train\n",
    "train.head()"
   ]
  },
  {
   "cell_type": "code",
   "execution_count": 16,
   "metadata": {},
   "outputs": [
    {
     "data": {
      "text/html": [
       "<div>\n",
       "<style scoped>\n",
       "    .dataframe tbody tr th:only-of-type {\n",
       "        vertical-align: middle;\n",
       "    }\n",
       "\n",
       "    .dataframe tbody tr th {\n",
       "        vertical-align: top;\n",
       "    }\n",
       "\n",
       "    .dataframe thead th {\n",
       "        text-align: right;\n",
       "    }\n",
       "</style>\n",
       "<table border=\"1\" class=\"dataframe\">\n",
       "  <thead>\n",
       "    <tr style=\"text-align: right;\">\n",
       "      <th></th>\n",
       "      <th>0</th>\n",
       "      <th>1</th>\n",
       "      <th>2</th>\n",
       "      <th>3</th>\n",
       "      <th>4</th>\n",
       "      <th>5</th>\n",
       "      <th>6</th>\n",
       "      <th>7</th>\n",
       "      <th>8</th>\n",
       "      <th>9</th>\n",
       "      <th>...</th>\n",
       "      <th>775</th>\n",
       "      <th>776</th>\n",
       "      <th>777</th>\n",
       "      <th>778</th>\n",
       "      <th>779</th>\n",
       "      <th>780</th>\n",
       "      <th>781</th>\n",
       "      <th>782</th>\n",
       "      <th>783</th>\n",
       "      <th>label</th>\n",
       "    </tr>\n",
       "  </thead>\n",
       "  <tbody>\n",
       "    <tr>\n",
       "      <th>0</th>\n",
       "      <td>0</td>\n",
       "      <td>0</td>\n",
       "      <td>0</td>\n",
       "      <td>0</td>\n",
       "      <td>0</td>\n",
       "      <td>0</td>\n",
       "      <td>0</td>\n",
       "      <td>0</td>\n",
       "      <td>0</td>\n",
       "      <td>0</td>\n",
       "      <td>...</td>\n",
       "      <td>0</td>\n",
       "      <td>0</td>\n",
       "      <td>0</td>\n",
       "      <td>0</td>\n",
       "      <td>0</td>\n",
       "      <td>0</td>\n",
       "      <td>0</td>\n",
       "      <td>0</td>\n",
       "      <td>0</td>\n",
       "      <td>9</td>\n",
       "    </tr>\n",
       "    <tr>\n",
       "      <th>1</th>\n",
       "      <td>0</td>\n",
       "      <td>0</td>\n",
       "      <td>0</td>\n",
       "      <td>0</td>\n",
       "      <td>0</td>\n",
       "      <td>0</td>\n",
       "      <td>0</td>\n",
       "      <td>0</td>\n",
       "      <td>0</td>\n",
       "      <td>0</td>\n",
       "      <td>...</td>\n",
       "      <td>3</td>\n",
       "      <td>0</td>\n",
       "      <td>3</td>\n",
       "      <td>174</td>\n",
       "      <td>189</td>\n",
       "      <td>67</td>\n",
       "      <td>0</td>\n",
       "      <td>0</td>\n",
       "      <td>0</td>\n",
       "      <td>2</td>\n",
       "    </tr>\n",
       "    <tr>\n",
       "      <th>2</th>\n",
       "      <td>0</td>\n",
       "      <td>0</td>\n",
       "      <td>0</td>\n",
       "      <td>0</td>\n",
       "      <td>0</td>\n",
       "      <td>0</td>\n",
       "      <td>0</td>\n",
       "      <td>0</td>\n",
       "      <td>1</td>\n",
       "      <td>0</td>\n",
       "      <td>...</td>\n",
       "      <td>58</td>\n",
       "      <td>0</td>\n",
       "      <td>0</td>\n",
       "      <td>0</td>\n",
       "      <td>0</td>\n",
       "      <td>0</td>\n",
       "      <td>0</td>\n",
       "      <td>0</td>\n",
       "      <td>0</td>\n",
       "      <td>1</td>\n",
       "    </tr>\n",
       "    <tr>\n",
       "      <th>3</th>\n",
       "      <td>0</td>\n",
       "      <td>0</td>\n",
       "      <td>0</td>\n",
       "      <td>0</td>\n",
       "      <td>0</td>\n",
       "      <td>0</td>\n",
       "      <td>0</td>\n",
       "      <td>0</td>\n",
       "      <td>0</td>\n",
       "      <td>21</td>\n",
       "      <td>...</td>\n",
       "      <td>0</td>\n",
       "      <td>0</td>\n",
       "      <td>0</td>\n",
       "      <td>0</td>\n",
       "      <td>0</td>\n",
       "      <td>0</td>\n",
       "      <td>0</td>\n",
       "      <td>0</td>\n",
       "      <td>0</td>\n",
       "      <td>1</td>\n",
       "    </tr>\n",
       "    <tr>\n",
       "      <th>4</th>\n",
       "      <td>0</td>\n",
       "      <td>0</td>\n",
       "      <td>0</td>\n",
       "      <td>2</td>\n",
       "      <td>0</td>\n",
       "      <td>1</td>\n",
       "      <td>1</td>\n",
       "      <td>0</td>\n",
       "      <td>0</td>\n",
       "      <td>0</td>\n",
       "      <td>...</td>\n",
       "      <td>12</td>\n",
       "      <td>0</td>\n",
       "      <td>0</td>\n",
       "      <td>0</td>\n",
       "      <td>0</td>\n",
       "      <td>0</td>\n",
       "      <td>0</td>\n",
       "      <td>0</td>\n",
       "      <td>0</td>\n",
       "      <td>6</td>\n",
       "    </tr>\n",
       "  </tbody>\n",
       "</table>\n",
       "<p>5 rows × 785 columns</p>\n",
       "</div>"
      ],
      "text/plain": [
       "   0  1  2  3  4  5  6  7  8   9  ...  775  776  777  778  779  780  781  782  \\\n",
       "0  0  0  0  0  0  0  0  0  0   0  ...    0    0    0    0    0    0    0    0   \n",
       "1  0  0  0  0  0  0  0  0  0   0  ...    3    0    3  174  189   67    0    0   \n",
       "2  0  0  0  0  0  0  0  0  1   0  ...   58    0    0    0    0    0    0    0   \n",
       "3  0  0  0  0  0  0  0  0  0  21  ...    0    0    0    0    0    0    0    0   \n",
       "4  0  0  0  2  0  1  1  0  0   0  ...   12    0    0    0    0    0    0    0   \n",
       "\n",
       "   783  label  \n",
       "0    0      9  \n",
       "1    0      2  \n",
       "2    0      1  \n",
       "3    0      1  \n",
       "4    0      6  \n",
       "\n",
       "[5 rows x 785 columns]"
      ]
     },
     "execution_count": 16,
     "metadata": {},
     "output_type": "execute_result"
    }
   ],
   "source": [
    "test = pd.DataFrame(x_test)\n",
    "test['label'] = y_test\n",
    "test.head()"
   ]
  },
  {
   "cell_type": "code",
   "execution_count": 17,
   "metadata": {},
   "outputs": [],
   "source": [
    "# test = pd.read_csv('./fashion-mnist_test.csv')\n",
    "# train = pd.read_csv('./fashion-mnist_train.csv')"
   ]
  },
  {
   "attachments": {},
   "cell_type": "markdown",
   "metadata": {},
   "source": [
    "### Q1"
   ]
  },
  {
   "cell_type": "code",
   "execution_count": 19,
   "metadata": {},
   "outputs": [
    {
     "data": {
      "text/plain": [
       "((12000, 784), (12000,))"
      ]
     },
     "execution_count": 19,
     "metadata": {},
     "output_type": "execute_result"
    }
   ],
   "source": [
    "labels = [0, 1]\n",
    "X_train = train[train['label'].isin(labels)].reset_index(drop=True).drop('label', axis=1)\n",
    "Y_train = train['label'][train['label'].isin(labels)].reset_index(drop=True)\n",
    "X_train.shape, Y_train.shape"
   ]
  },
  {
   "cell_type": "code",
   "execution_count": 20,
   "metadata": {},
   "outputs": [
    {
     "data": {
      "text/plain": [
       "((2000, 784), (2000,))"
      ]
     },
     "execution_count": 20,
     "metadata": {},
     "output_type": "execute_result"
    }
   ],
   "source": [
    "X_test = test[test['label'].isin(labels)].reset_index(drop=True).drop('label', axis=1)\n",
    "Y_test = test['label'][test['label'].isin(labels)].reset_index(drop=True)\n",
    "X_test.shape, Y_test.shape"
   ]
  },
  {
   "cell_type": "code",
   "execution_count": 21,
   "metadata": {},
   "outputs": [
    {
     "data": {
      "text/plain": [
       "((784, 12000), (784, 2000), (1, 12000), (1, 12000))"
      ]
     },
     "execution_count": 21,
     "metadata": {},
     "output_type": "execute_result"
    }
   ],
   "source": [
    "X_train = (np.array(X_train).T)/255.\n",
    "X_test = (np.array(X_test).T)/255.\n",
    "Y_train = np.array(Y_train).reshape(1, -1)\n",
    "Y_test = np.array(Y_test).reshape(1, -1)\n",
    "X_train.shape, X_test.shape, Y_train.shape, Y_train.shape"
   ]
  },
  {
   "cell_type": "code",
   "execution_count": 22,
   "metadata": {},
   "outputs": [],
   "source": [
    "def show_image(x):\n",
    "    x = x.reshape(28, 28)\n",
    "    plt.imshow(x, cmap='gray')\n",
    "    plt.show"
   ]
  },
  {
   "cell_type": "code",
   "execution_count": 23,
   "metadata": {},
   "outputs": [
    {
     "data": {
      "image/png": "[encoded data removed]",
      "text/plain": [
       "<Figure size 432x288 with 1 Axes>"
      ]
     },
     "metadata": {
      "needs_background": "light"
     },
     "output_type": "display_data"
    }
   ],
   "source": [
    "show_image(X_train[:, 11050])"
   ]
  },
  {
   "cell_type": "code",
   "execution_count": 27,
   "metadata": {},
   "outputs": [
    {
     "data": {
      "image/png": "[encoded data removed]",
      "text/plain": [
       "<Figure size 432x288 with 1 Axes>"
      ]
     },
     "metadata": {
      "needs_background": "light"
     },
     "output_type": "display_data"
    }
   ],
   "source": [
    "show_image(X_train[:, 100])"
   ]
  },
  {
   "attachments": {},
   "cell_type": "markdown",
   "metadata": {},
   "source": [
    "### Q2"
   ]
  },
  {
   "attachments": {},
   "cell_type": "markdown",
   "metadata": {},
   "source": [
    "Step by step implementation"
   ]
  },
  {
   "cell_type": "code",
   "execution_count": 28,
   "metadata": {},
   "outputs": [],
   "source": [
    "def init_params(dimension):\n",
    "    w = np.zeros((dimension, 1))\n",
    "    b = 0\n",
    "    return w, b"
   ]
  },
  {
   "cell_type": "code",
   "execution_count": 29,
   "metadata": {},
   "outputs": [],
   "source": [
    "def sigmoid(z):\n",
    "    return (1 / (1 + np.exp(-z)))"
   ]
  },
  {
   "cell_type": "code",
   "execution_count": 30,
   "metadata": {},
   "outputs": [],
   "source": [
    "def forward_prop(w, b, X):\n",
    "    z1 = np.dot(w.T,X) + b\n",
    "    prediction = sigmoid(z1)\n",
    "    return z1, prediction"
   ]
  },
  {
   "cell_type": "code",
   "execution_count": 31,
   "metadata": {},
   "outputs": [],
   "source": [
    "def backward_prop(X, Y, prediction):\n",
    "    m = X.shape[1]\n",
    "    \n",
    "    cost = (-1/m) * (np.sum(np.multiply(Y, np.log(prediction)) + np.multiply((1-Y), np.log(1-prediction))))\n",
    "\n",
    "    dw = (1/m) * (np.dot(X, (prediction - Y).T))\n",
    "    db = (1/m) * (np.sum(prediction - Y))\n",
    "\n",
    "    return dw, db, cost"
   ]
  },
  {
   "cell_type": "code",
   "execution_count": 32,
   "metadata": {},
   "outputs": [],
   "source": [
    "def update_params(w, b, dw, db, lr):\n",
    "    w = w - lr*dw\n",
    "    b = b - lr*db\n",
    "    return w, b"
   ]
  },
  {
   "cell_type": "code",
   "execution_count": 33,
   "metadata": {},
   "outputs": [],
   "source": [
    "def get_accuracy(prediction, Y):\n",
    "    return (100 - np.mean(np.abs(prediction - Y)) * 100)"
   ]
  },
  {
   "cell_type": "code",
   "execution_count": 34,
   "metadata": {},
   "outputs": [],
   "source": [
    "def get_prediction(prediction, Y_pred):\n",
    "    for i in range(Y_pred.shape[1]):\n",
    "        if Y_pred[0, i] <= 0.5:\n",
    "            prediction[0, i] = 0\n",
    "        else:\n",
    "            prediction[0, i] = 1\n",
    "    \n",
    "    return prediction"
   ]
  },
  {
   "cell_type": "code",
   "execution_count": 35,
   "metadata": {},
   "outputs": [],
   "source": [
    "def gradient_decent(X, Y, lr, epochs):\n",
    "    w, b = init_params(X.shape[0])\n",
    "    for i in range(epochs):\n",
    "        z, prediction = forward_prop(w, b, X)\n",
    "        dw, db, cost = backward_prop(X, Y, prediction)\n",
    "        w, b = update_params(w, b, dw, db, lr)\n",
    "\n",
    "        if i % 10 == 0:\n",
    "            print(f'Cost after {i} epochs: {cost}')\n",
    "            print(f'Accuracy after {i} epochs: {get_accuracy(get_prediction(np.zeros((1, X.shape[1])), prediction), Y)}')\n",
    "    \n",
    "    return w, b\n",
    "        "
   ]
  },
  {
   "cell_type": "code",
   "execution_count": 36,
   "metadata": {},
   "outputs": [],
   "source": [
    "def predict(X, w, b):\n",
    "    m = X.shape[1]\n",
    "    prediction = np.zeros((1, m))\n",
    "    z = np.dot(w.T, X) + b\n",
    "    Y_pred = sigmoid(z)\n",
    "\n",
    "    get_prediction(prediction, Y_pred)\n",
    "    \n",
    "    return prediction"
   ]
  },
  {
   "cell_type": "code",
   "execution_count": 37,
   "metadata": {},
   "outputs": [],
   "source": [
    "def s_model(X_train, Y_train, X_test, Y_test, lr, epochs):\n",
    "    w, b = gradient_decent(X_train, Y_train, lr, epochs)\n",
    "    Y_pred_train = predict(X_train, w, b)\n",
    "    Y_pred_test = predict(X_test, w, b)\n",
    "\n",
    "    print(f'\\nTraining accuracy: {get_accuracy(Y_pred_train, Y_train)}')\n",
    "    print(f'Testing accuracy: {get_accuracy(Y_pred_test, Y_test)}')\n",
    "    return Y_pred_test\n",
    "    "
   ]
  },
  {
   "cell_type": "code",
   "execution_count": 38,
   "metadata": {},
   "outputs": [
    {
     "name": "stdout",
     "output_type": "stream",
     "text": [
      "Cost after 0 epochs: 0.6931471805599452\n",
      "Accuracy after 0 epochs: 50.0\n",
      "Cost after 10 epochs: 0.6682745363620657\n",
      "Accuracy after 10 epochs: 91.83333333333333\n",
      "Cost after 20 epochs: 0.6455161919657183\n",
      "Accuracy after 20 epochs: 92.83333333333333\n",
      "Cost after 30 epochs: 0.6244524553999928\n",
      "Accuracy after 30 epochs: 93.5\n",
      "Cost after 40 epochs: 0.6048209872882693\n",
      "Accuracy after 40 epochs: 94.06666666666666\n",
      "Cost after 50 epochs: 0.586446361429208\n",
      "Accuracy after 50 epochs: 94.46666666666667\n",
      "Cost after 60 epochs: 0.5692016557571397\n",
      "Accuracy after 60 epochs: 94.73333333333333\n",
      "Cost after 70 epochs: 0.552987791775038\n",
      "Accuracy after 70 epochs: 94.925\n",
      "Cost after 80 epochs: 0.5377224875371115\n",
      "Accuracy after 80 epochs: 95.125\n",
      "Cost after 90 epochs: 0.5233343432520158\n",
      "Accuracy after 90 epochs: 95.23333333333333\n",
      "\n",
      "Training accuracy: 95.41666666666667\n",
      "Testing accuracy: 94.6\n"
     ]
    }
   ],
   "source": [
    "Y_pred = s_model(X_train, Y_train, X_test, Y_test, 0.001, 100)"
   ]
  },
  {
   "cell_type": "code",
   "execution_count": 39,
   "metadata": {},
   "outputs": [
    {
     "data": {
      "text/plain": [
       "0.0"
      ]
     },
     "execution_count": 39,
     "metadata": {},
     "output_type": "execute_result"
    }
   ],
   "source": [
    "Y_pred[0, 1000]"
   ]
  },
  {
   "cell_type": "code",
   "execution_count": 40,
   "metadata": {},
   "outputs": [
    {
     "data": {
      "image/png": "[encoded data removed]",
      "text/plain": [
       "<Figure size 432x288 with 1 Axes>"
      ]
     },
     "metadata": {
      "needs_background": "light"
     },
     "output_type": "display_data"
    }
   ],
   "source": [
    "show_image(X_test[:, 1000])"
   ]
  },
  {
   "cell_type": "code",
   "execution_count": 44,
   "metadata": {},
   "outputs": [
    {
     "data": {
      "text/plain": [
       "1.0"
      ]
     },
     "execution_count": 44,
     "metadata": {},
     "output_type": "execute_result"
    }
   ],
   "source": [
    "Y_pred[0, 1152]"
   ]
  },
  {
   "cell_type": "code",
   "execution_count": 46,
   "metadata": {},
   "outputs": [
    {
     "data": {
      "image/png": "[encoded data removed]",
      "text/plain": [
       "<Figure size 432x288 with 1 Axes>"
      ]
     },
     "metadata": {
      "needs_background": "light"
     },
     "output_type": "display_data"
    }
   ],
   "source": [
    "show_image(X_test[:, 1152])"
   ]
  },
  {
   "attachments": {},
   "cell_type": "markdown",
   "metadata": {},
   "source": [
    "Using tensorflow and no hidden layer"
   ]
  },
  {
   "cell_type": "code",
   "execution_count": 53,
   "metadata": {},
   "outputs": [],
   "source": [
    "tf.random.set_seed(42)\n",
    "\n",
    "model = tf.keras.Sequential([\n",
    "    tf.keras.layers.Dense(1, activation='sigmoid')\n",
    "])"
   ]
  },
  {
   "cell_type": "code",
   "execution_count": 54,
   "metadata": {},
   "outputs": [],
   "source": [
    "model.compile(\n",
    "    loss=tf.keras.losses.binary_crossentropy,\n",
    "    optimizer=tf.keras.optimizers.SGD(learning_rate=0.001),\n",
    "    metrics=['accuracy']\n",
    ")"
   ]
  },
  {
   "cell_type": "code",
   "execution_count": 55,
   "metadata": {},
   "outputs": [
    {
     "name": "stdout",
     "output_type": "stream",
     "text": [
      "Epoch 1/100\n",
      "375/375 [==============================] - 2s 3ms/step - loss: 0.4303 - accuracy: 0.9151\n",
      "Epoch 2/100\n",
      "375/375 [==============================] - 1s 1ms/step - loss: 0.2639 - accuracy: 0.9568\n",
      "Epoch 3/100\n",
      "375/375 [==============================] - 1s 1ms/step - loss: 0.2103 - accuracy: 0.9593\n",
      "Epoch 4/100\n",
      "375/375 [==============================] - 1s 1ms/step - loss: 0.1830 - accuracy: 0.9606\n",
      "Epoch 5/100\n",
      "375/375 [==============================] - 1s 1ms/step - loss: 0.1659 - accuracy: 0.9622\n",
      "Epoch 6/100\n",
      "375/375 [==============================] - 1s 1ms/step - loss: 0.1539 - accuracy: 0.9642\n",
      "Epoch 7/100\n",
      "375/375 [==============================] - 1s 1ms/step - loss: 0.1447 - accuracy: 0.9653\n",
      "Epoch 8/100\n",
      "375/375 [==============================] - 0s 1ms/step - loss: 0.1374 - accuracy: 0.9663\n",
      "Epoch 9/100\n",
      "375/375 [==============================] - 1s 1ms/step - loss: 0.1313 - accuracy: 0.9672\n",
      "Epoch 10/100\n",
      "375/375 [==============================] - 0s 1ms/step - loss: 0.1261 - accuracy: 0.9679\n",
      "Epoch 11/100\n",
      "375/375 [==============================] - 0s 1ms/step - loss: 0.1216 - accuracy: 0.9681\n",
      "Epoch 12/100\n",
      "375/375 [==============================] - 1s 1ms/step - loss: 0.1176 - accuracy: 0.9688\n",
      "Epoch 13/100\n",
      "375/375 [==============================] - 1s 2ms/step - loss: 0.1140 - accuracy: 0.9691\n",
      "Epoch 14/100\n",
      "375/375 [==============================] - 1s 1ms/step - loss: 0.1108 - accuracy: 0.9697\n",
      "Epoch 15/100\n",
      "375/375 [==============================] - 0s 1ms/step - loss: 0.1079 - accuracy: 0.9702\n",
      "Epoch 16/100\n",
      "375/375 [==============================] - 1s 1ms/step - loss: 0.1052 - accuracy: 0.9705\n",
      "Epoch 17/100\n",
      "375/375 [==============================] - 1s 1ms/step - loss: 0.1028 - accuracy: 0.9713\n",
      "Epoch 18/100\n",
      "375/375 [==============================] - 1s 2ms/step - loss: 0.1006 - accuracy: 0.9715\n",
      "Epoch 19/100\n",
      "375/375 [==============================] - 1s 2ms/step - loss: 0.0985 - accuracy: 0.9722\n",
      "Epoch 20/100\n",
      "375/375 [==============================] - 1s 1ms/step - loss: 0.0966 - accuracy: 0.9729\n",
      "Epoch 21/100\n",
      "375/375 [==============================] - 1s 2ms/step - loss: 0.0948 - accuracy: 0.9728\n",
      "Epoch 22/100\n",
      "375/375 [==============================] - 1s 1ms/step - loss: 0.0931 - accuracy: 0.9736\n",
      "Epoch 23/100\n",
      "375/375 [==============================] - 0s 1ms/step - loss: 0.0915 - accuracy: 0.9739\n",
      "Epoch 24/100\n",
      "375/375 [==============================] - 1s 1ms/step - loss: 0.0901 - accuracy: 0.9742\n",
      "Epoch 25/100\n",
      "375/375 [==============================] - 0s 1ms/step - loss: 0.0887 - accuracy: 0.9746\n",
      "Epoch 26/100\n",
      "375/375 [==============================] - 1s 2ms/step - loss: 0.0874 - accuracy: 0.9749\n",
      "Epoch 27/100\n",
      "375/375 [==============================] - 1s 2ms/step - loss: 0.0862 - accuracy: 0.9754\n",
      "Epoch 28/100\n",
      "375/375 [==============================] - 1s 2ms/step - loss: 0.0850 - accuracy: 0.9760\n",
      "Epoch 29/100\n",
      "375/375 [==============================] - 1s 2ms/step - loss: 0.0839 - accuracy: 0.9763\n",
      "Epoch 30/100\n",
      "375/375 [==============================] - 1s 2ms/step - loss: 0.0829 - accuracy: 0.9765\n",
      "Epoch 31/100\n",
      "375/375 [==============================] - 1s 3ms/step - loss: 0.0819 - accuracy: 0.9769\n",
      "Epoch 32/100\n",
      "375/375 [==============================] - 1s 3ms/step - loss: 0.0809 - accuracy: 0.9767\n",
      "Epoch 33/100\n",
      "375/375 [==============================] - 1s 3ms/step - loss: 0.0800 - accuracy: 0.9774\n",
      "Epoch 34/100\n",
      "375/375 [==============================] - 1s 3ms/step - loss: 0.0792 - accuracy: 0.9775\n",
      "Epoch 35/100\n",
      "375/375 [==============================] - 1s 2ms/step - loss: 0.0784 - accuracy: 0.9779\n",
      "Epoch 36/100\n",
      "375/375 [==============================] - 1s 2ms/step - loss: 0.0776 - accuracy: 0.9778\n",
      "Epoch 37/100\n",
      "375/375 [==============================] - 1s 3ms/step - loss: 0.0769 - accuracy: 0.9779\n",
      "Epoch 38/100\n",
      "375/375 [==============================] - 1s 2ms/step - loss: 0.0761 - accuracy: 0.9782\n",
      "Epoch 39/100\n",
      "375/375 [==============================] - 1s 3ms/step - loss: 0.0755 - accuracy: 0.9784\n",
      "Epoch 40/100\n",
      "375/375 [==============================] - 1s 2ms/step - loss: 0.0748 - accuracy: 0.9788\n",
      "Epoch 41/100\n",
      "375/375 [==============================] - 1s 3ms/step - loss: 0.0742 - accuracy: 0.9789\n",
      "Epoch 42/100\n",
      "375/375 [==============================] - 1s 3ms/step - loss: 0.0736 - accuracy: 0.9793\n",
      "Epoch 43/100\n",
      "375/375 [==============================] - 1s 3ms/step - loss: 0.0730 - accuracy: 0.9793\n",
      "Epoch 44/100\n",
      "375/375 [==============================] - 1s 3ms/step - loss: 0.0724 - accuracy: 0.9795\n",
      "Epoch 45/100\n",
      "375/375 [==============================] - 1s 3ms/step - loss: 0.0719 - accuracy: 0.9794\n",
      "Epoch 46/100\n",
      "375/375 [==============================] - 1s 2ms/step - loss: 0.0714 - accuracy: 0.9793\n",
      "Epoch 47/100\n",
      "375/375 [==============================] - 1s 3ms/step - loss: 0.0709 - accuracy: 0.9796\n",
      "Epoch 48/100\n",
      "375/375 [==============================] - 1s 3ms/step - loss: 0.0704 - accuracy: 0.9796\n",
      "Epoch 49/100\n",
      "375/375 [==============================] - 1s 2ms/step - loss: 0.0699 - accuracy: 0.9796\n",
      "Epoch 50/100\n",
      "375/375 [==============================] - 1s 2ms/step - loss: 0.0695 - accuracy: 0.9797\n",
      "Epoch 51/100\n",
      "375/375 [==============================] - 1s 3ms/step - loss: 0.0690 - accuracy: 0.9799\n",
      "Epoch 52/100\n",
      "375/375 [==============================] - 1s 3ms/step - loss: 0.0686 - accuracy: 0.9803\n",
      "Epoch 53/100\n",
      "375/375 [==============================] - 1s 2ms/step - loss: 0.0682 - accuracy: 0.9803\n",
      "Epoch 54/100\n",
      "375/375 [==============================] - 1s 2ms/step - loss: 0.0678 - accuracy: 0.9802\n",
      "Epoch 55/100\n",
      "375/375 [==============================] - 1s 1ms/step - loss: 0.0674 - accuracy: 0.9803\n",
      "Epoch 56/100\n",
      "375/375 [==============================] - 1s 3ms/step - loss: 0.0670 - accuracy: 0.9803\n",
      "Epoch 57/100\n",
      "375/375 [==============================] - 1s 1ms/step - loss: 0.0666 - accuracy: 0.9803\n",
      "Epoch 58/100\n",
      "375/375 [==============================] - 1s 2ms/step - loss: 0.0663 - accuracy: 0.9805\n",
      "Epoch 59/100\n",
      "375/375 [==============================] - 1s 2ms/step - loss: 0.0659 - accuracy: 0.9805\n",
      "Epoch 60/100\n",
      "375/375 [==============================] - 1s 1ms/step - loss: 0.0656 - accuracy: 0.9805\n",
      "Epoch 61/100\n",
      "375/375 [==============================] - 1s 1ms/step - loss: 0.0652 - accuracy: 0.9806\n",
      "Epoch 62/100\n",
      "375/375 [==============================] - 1s 2ms/step - loss: 0.0649 - accuracy: 0.9805\n",
      "Epoch 63/100\n",
      "375/375 [==============================] - 0s 1ms/step - loss: 0.0646 - accuracy: 0.9805\n",
      "Epoch 64/100\n",
      "375/375 [==============================] - 0s 1ms/step - loss: 0.0643 - accuracy: 0.9806\n",
      "Epoch 65/100\n",
      "375/375 [==============================] - 0s 1ms/step - loss: 0.0640 - accuracy: 0.9805\n",
      "Epoch 66/100\n",
      "375/375 [==============================] - 1s 1ms/step - loss: 0.0637 - accuracy: 0.9807\n",
      "Epoch 67/100\n",
      "375/375 [==============================] - 1s 1ms/step - loss: 0.0634 - accuracy: 0.9811\n",
      "Epoch 68/100\n",
      "375/375 [==============================] - 0s 1ms/step - loss: 0.0631 - accuracy: 0.9812\n",
      "Epoch 69/100\n",
      "375/375 [==============================] - 1s 1ms/step - loss: 0.0628 - accuracy: 0.9810\n",
      "Epoch 70/100\n",
      "375/375 [==============================] - 1s 1ms/step - loss: 0.0626 - accuracy: 0.9814\n",
      "Epoch 71/100\n",
      "375/375 [==============================] - 1s 1ms/step - loss: 0.0623 - accuracy: 0.9814\n",
      "Epoch 72/100\n",
      "375/375 [==============================] - 0s 1ms/step - loss: 0.0621 - accuracy: 0.9816\n",
      "Epoch 73/100\n",
      "375/375 [==============================] - 0s 1ms/step - loss: 0.0618 - accuracy: 0.9815\n",
      "Epoch 74/100\n",
      "375/375 [==============================] - 1s 1ms/step - loss: 0.0616 - accuracy: 0.9816\n",
      "Epoch 75/100\n",
      "375/375 [==============================] - 0s 1ms/step - loss: 0.0613 - accuracy: 0.9816\n",
      "Epoch 76/100\n",
      "375/375 [==============================] - 1s 1ms/step - loss: 0.0611 - accuracy: 0.9817\n",
      "Epoch 77/100\n",
      "375/375 [==============================] - 0s 1ms/step - loss: 0.0609 - accuracy: 0.9817\n",
      "Epoch 78/100\n",
      "375/375 [==============================] - 0s 1ms/step - loss: 0.0606 - accuracy: 0.9820\n",
      "Epoch 79/100\n",
      "375/375 [==============================] - 0s 1ms/step - loss: 0.0604 - accuracy: 0.9818\n",
      "Epoch 80/100\n",
      "375/375 [==============================] - 0s 1ms/step - loss: 0.0602 - accuracy: 0.9817\n",
      "Epoch 81/100\n",
      "375/375 [==============================] - 1s 2ms/step - loss: 0.0600 - accuracy: 0.9820\n",
      "Epoch 82/100\n",
      "375/375 [==============================] - 1s 2ms/step - loss: 0.0598 - accuracy: 0.9819\n",
      "Epoch 83/100\n",
      "375/375 [==============================] - 1s 2ms/step - loss: 0.0596 - accuracy: 0.9819\n",
      "Epoch 84/100\n",
      "375/375 [==============================] - 1s 2ms/step - loss: 0.0594 - accuracy: 0.9822\n",
      "Epoch 85/100\n",
      "375/375 [==============================] - 1s 1ms/step - loss: 0.0592 - accuracy: 0.9821\n",
      "Epoch 86/100\n",
      "375/375 [==============================] - 1s 1ms/step - loss: 0.0590 - accuracy: 0.9822\n",
      "Epoch 87/100\n",
      "375/375 [==============================] - 0s 1ms/step - loss: 0.0588 - accuracy: 0.9822\n",
      "Epoch 88/100\n",
      "375/375 [==============================] - 0s 1ms/step - loss: 0.0586 - accuracy: 0.9822\n",
      "Epoch 89/100\n",
      "375/375 [==============================] - 1s 1ms/step - loss: 0.0584 - accuracy: 0.9823\n",
      "Epoch 90/100\n",
      "375/375 [==============================] - 0s 1ms/step - loss: 0.0582 - accuracy: 0.9822\n",
      "Epoch 91/100\n",
      "375/375 [==============================] - 0s 1ms/step - loss: 0.0581 - accuracy: 0.9823\n",
      "Epoch 92/100\n",
      "375/375 [==============================] - 1s 2ms/step - loss: 0.0579 - accuracy: 0.9825\n",
      "Epoch 93/100\n",
      "375/375 [==============================] - 1s 1ms/step - loss: 0.0577 - accuracy: 0.9827\n",
      "Epoch 94/100\n",
      "375/375 [==============================] - 1s 1ms/step - loss: 0.0575 - accuracy: 0.9825\n",
      "Epoch 95/100\n",
      "375/375 [==============================] - 0s 1ms/step - loss: 0.0574 - accuracy: 0.9826\n",
      "Epoch 96/100\n",
      "375/375 [==============================] - 1s 1ms/step - loss: 0.0572 - accuracy: 0.9826\n",
      "Epoch 97/100\n",
      "375/375 [==============================] - 1s 1ms/step - loss: 0.0570 - accuracy: 0.9825\n",
      "Epoch 98/100\n",
      "375/375 [==============================] - 1s 1ms/step - loss: 0.0569 - accuracy: 0.9827\n",
      "Epoch 99/100\n",
      "375/375 [==============================] - 1s 1ms/step - loss: 0.0567 - accuracy: 0.9827\n",
      "Epoch 100/100\n",
      "375/375 [==============================] - 1s 2ms/step - loss: 0.0566 - accuracy: 0.9827\n"
     ]
    },
    {
     "data": {
      "text/plain": [
       "<keras.callbacks.History at 0x1e34369fb20>"
      ]
     },
     "execution_count": 55,
     "metadata": {},
     "output_type": "execute_result"
    }
   ],
   "source": [
    "model.fit(X_train.T, Y_train.T, epochs=100)"
   ]
  },
  {
   "cell_type": "code",
   "execution_count": 56,
   "metadata": {},
   "outputs": [
    {
     "name": "stdout",
     "output_type": "stream",
     "text": [
      "63/63 [==============================] - 0s 1ms/step\n"
     ]
    }
   ],
   "source": [
    "tf_pred = model.predict(X_test.T)\n"
   ]
  },
  {
   "cell_type": "code",
   "execution_count": 57,
   "metadata": {},
   "outputs": [],
   "source": [
    "tf_pred = get_prediction(np.zeros((1, Y_test.shape[1])),tf_pred.T)"
   ]
  },
  {
   "cell_type": "code",
   "execution_count": 58,
   "metadata": {},
   "outputs": [
    {
     "name": "stdout",
     "output_type": "stream",
     "text": [
      "Accuracy of tensorflow model: 98.1\n"
     ]
    }
   ],
   "source": [
    "print(f'Accuracy of tensorflow model: {get_accuracy(tf_pred, Y_test)}')"
   ]
  },
  {
   "cell_type": "code",
   "execution_count": 59,
   "metadata": {},
   "outputs": [
    {
     "data": {
      "text/plain": [
       "1.0"
      ]
     },
     "execution_count": 59,
     "metadata": {},
     "output_type": "execute_result"
    }
   ],
   "source": [
    "tf_pred[0, 1234]"
   ]
  },
  {
   "cell_type": "code",
   "execution_count": 60,
   "metadata": {},
   "outputs": [
    {
     "data": {
      "image/png": "[encoded data removed]",
      "text/plain": [
       "<Figure size 432x288 with 1 Axes>"
      ]
     },
     "metadata": {
      "needs_background": "light"
     },
     "output_type": "display_data"
    }
   ],
   "source": [
    "show_image(X_test[:, 1234])"
   ]
  },
  {
   "cell_type": "code",
   "execution_count": 61,
   "metadata": {},
   "outputs": [
    {
     "data": {
      "text/plain": [
       "0.0"
      ]
     },
     "execution_count": 61,
     "metadata": {},
     "output_type": "execute_result"
    }
   ],
   "source": [
    "tf_pred[0, 1589]"
   ]
  },
  {
   "cell_type": "code",
   "execution_count": 62,
   "metadata": {},
   "outputs": [
    {
     "data": {
      "image/png": "[encoded data removed]",
      "text/plain": [
       "<Figure size 432x288 with 1 Axes>"
      ]
     },
     "metadata": {
      "needs_background": "light"
     },
     "output_type": "display_data"
    }
   ],
   "source": [
    "show_image(X_test[:, 1589])"
   ]
  },
  {
   "attachments": {},
   "cell_type": "markdown",
   "metadata": {},
   "source": [
    "### Q3"
   ]
  },
  {
   "cell_type": "code",
   "execution_count": 65,
   "metadata": {},
   "outputs": [],
   "source": [
    "model2 = tf.keras.Sequential([\n",
    "    tf.keras.layers.Dense(100, activation='sigmoid'),\n",
    "    tf.keras.layers.Dense(100, activation='sigmoid'),\n",
    "    tf.keras.layers.Dense(1, activation='sigmoid')\n",
    "])"
   ]
  },
  {
   "cell_type": "code",
   "execution_count": 66,
   "metadata": {},
   "outputs": [],
   "source": [
    "model2.compile(\n",
    "    loss=tf.keras.losses.binary_crossentropy,\n",
    "    optimizer=tf.keras.optimizers.SGD(learning_rate=0.001),\n",
    "    metrics=['accuracy']\n",
    ")"
   ]
  },
  {
   "cell_type": "code",
   "execution_count": 67,
   "metadata": {},
   "outputs": [
    {
     "name": "stdout",
     "output_type": "stream",
     "text": [
      "Epoch 1/100\n",
      "375/375 [==============================] - 1s 2ms/step - loss: 0.7121 - accuracy: 0.5074\n",
      "Epoch 2/100\n",
      "375/375 [==============================] - 1s 3ms/step - loss: 0.6748 - accuracy: 0.8171\n",
      "Epoch 3/100\n",
      "375/375 [==============================] - 1s 2ms/step - loss: 0.6668 - accuracy: 0.8873\n",
      "Epoch 4/100\n",
      "375/375 [==============================] - 1s 3ms/step - loss: 0.6587 - accuracy: 0.9135\n",
      "Epoch 5/100\n",
      "375/375 [==============================] - 1s 3ms/step - loss: 0.6501 - accuracy: 0.9060\n",
      "Epoch 6/100\n",
      "375/375 [==============================] - 1s 2ms/step - loss: 0.6413 - accuracy: 0.9319\n",
      "Epoch 7/100\n",
      "375/375 [==============================] - 1s 3ms/step - loss: 0.6319 - accuracy: 0.9263\n",
      "Epoch 8/100\n",
      "375/375 [==============================] - 1s 3ms/step - loss: 0.6218 - accuracy: 0.9329\n",
      "Epoch 9/100\n",
      "375/375 [==============================] - 2s 4ms/step - loss: 0.6109 - accuracy: 0.9279\n",
      "Epoch 10/100\n",
      "375/375 [==============================] - 1s 3ms/step - loss: 0.5994 - accuracy: 0.9377\n",
      "Epoch 11/100\n",
      "375/375 [==============================] - 1s 3ms/step - loss: 0.5869 - accuracy: 0.9359\n",
      "Epoch 12/100\n",
      "375/375 [==============================] - 1s 4ms/step - loss: 0.5735 - accuracy: 0.9398\n",
      "Epoch 13/100\n",
      "375/375 [==============================] - 1s 3ms/step - loss: 0.5591 - accuracy: 0.9413\n",
      "Epoch 14/100\n",
      "375/375 [==============================] - 1s 3ms/step - loss: 0.5438 - accuracy: 0.9423\n",
      "Epoch 15/100\n",
      "375/375 [==============================] - 1s 4ms/step - loss: 0.5276 - accuracy: 0.9454\n",
      "Epoch 16/100\n",
      "375/375 [==============================] - 2s 4ms/step - loss: 0.5105 - accuracy: 0.9457\n",
      "Epoch 17/100\n",
      "375/375 [==============================] - 2s 4ms/step - loss: 0.4927 - accuracy: 0.9470\n",
      "Epoch 18/100\n",
      "375/375 [==============================] - 2s 4ms/step - loss: 0.4743 - accuracy: 0.9467\n",
      "Epoch 19/100\n",
      "375/375 [==============================] - 1s 3ms/step - loss: 0.4553 - accuracy: 0.9492\n",
      "Epoch 20/100\n",
      "375/375 [==============================] - 1s 3ms/step - loss: 0.4362 - accuracy: 0.9491\n",
      "Epoch 21/100\n",
      "375/375 [==============================] - 1s 4ms/step - loss: 0.4169 - accuracy: 0.9512\n",
      "Epoch 22/100\n",
      "375/375 [==============================] - 1s 4ms/step - loss: 0.3978 - accuracy: 0.9504\n",
      "Epoch 23/100\n",
      "375/375 [==============================] - 1s 4ms/step - loss: 0.3791 - accuracy: 0.9525\n",
      "Epoch 24/100\n",
      "375/375 [==============================] - 1s 4ms/step - loss: 0.3608 - accuracy: 0.9525\n",
      "Epoch 25/100\n",
      "375/375 [==============================] - 1s 4ms/step - loss: 0.3433 - accuracy: 0.9542\n",
      "Epoch 26/100\n",
      "375/375 [==============================] - 1s 4ms/step - loss: 0.3266 - accuracy: 0.9539\n",
      "Epoch 27/100\n",
      "375/375 [==============================] - 2s 4ms/step - loss: 0.3108 - accuracy: 0.9548\n",
      "Epoch 28/100\n",
      "375/375 [==============================] - 1s 4ms/step - loss: 0.2960 - accuracy: 0.9550\n",
      "Epoch 29/100\n",
      "375/375 [==============================] - 1s 4ms/step - loss: 0.2821 - accuracy: 0.9563\n",
      "Epoch 30/100\n",
      "375/375 [==============================] - 1s 4ms/step - loss: 0.2694 - accuracy: 0.9572\n",
      "Epoch 31/100\n",
      "375/375 [==============================] - 1s 4ms/step - loss: 0.2575 - accuracy: 0.9574\n",
      "Epoch 32/100\n",
      "375/375 [==============================] - 2s 4ms/step - loss: 0.2466 - accuracy: 0.9577\n",
      "Epoch 33/100\n",
      "375/375 [==============================] - 1s 3ms/step - loss: 0.2365 - accuracy: 0.9579\n",
      "Epoch 34/100\n",
      "375/375 [==============================] - 2s 4ms/step - loss: 0.2273 - accuracy: 0.9583\n",
      "Epoch 35/100\n",
      "375/375 [==============================] - 2s 4ms/step - loss: 0.2189 - accuracy: 0.9587\n",
      "Epoch 36/100\n",
      "375/375 [==============================] - 1s 4ms/step - loss: 0.2111 - accuracy: 0.9591\n",
      "Epoch 37/100\n",
      "375/375 [==============================] - 2s 4ms/step - loss: 0.2040 - accuracy: 0.9591\n",
      "Epoch 38/100\n",
      "375/375 [==============================] - 1s 4ms/step - loss: 0.1974 - accuracy: 0.9594\n",
      "Epoch 39/100\n",
      "375/375 [==============================] - 1s 3ms/step - loss: 0.1914 - accuracy: 0.9597\n",
      "Epoch 40/100\n",
      "375/375 [==============================] - 1s 2ms/step - loss: 0.1859 - accuracy: 0.9603\n",
      "Epoch 41/100\n",
      "375/375 [==============================] - 1s 2ms/step - loss: 0.1808 - accuracy: 0.9603\n",
      "Epoch 42/100\n",
      "375/375 [==============================] - 1s 3ms/step - loss: 0.1761 - accuracy: 0.9601\n",
      "Epoch 43/100\n",
      "375/375 [==============================] - 1s 3ms/step - loss: 0.1717 - accuracy: 0.9603\n",
      "Epoch 44/100\n",
      "375/375 [==============================] - 1s 3ms/step - loss: 0.1677 - accuracy: 0.9603\n",
      "Epoch 45/100\n",
      "375/375 [==============================] - 1s 3ms/step - loss: 0.1639 - accuracy: 0.9608\n",
      "Epoch 46/100\n",
      "375/375 [==============================] - 1s 3ms/step - loss: 0.1604 - accuracy: 0.9607\n",
      "Epoch 47/100\n",
      "375/375 [==============================] - 1s 3ms/step - loss: 0.1570 - accuracy: 0.9609\n",
      "Epoch 48/100\n",
      "375/375 [==============================] - 1s 3ms/step - loss: 0.1540 - accuracy: 0.9610\n",
      "Epoch 49/100\n",
      "375/375 [==============================] - 1s 2ms/step - loss: 0.1511 - accuracy: 0.9615\n",
      "Epoch 50/100\n",
      "375/375 [==============================] - 1s 3ms/step - loss: 0.1483 - accuracy: 0.9617\n",
      "Epoch 51/100\n",
      "375/375 [==============================] - 1s 2ms/step - loss: 0.1457 - accuracy: 0.9619\n",
      "Epoch 52/100\n",
      "375/375 [==============================] - 1s 2ms/step - loss: 0.1433 - accuracy: 0.9622\n",
      "Epoch 53/100\n",
      "375/375 [==============================] - 1s 3ms/step - loss: 0.1410 - accuracy: 0.9623\n",
      "Epoch 54/100\n",
      "375/375 [==============================] - 1s 3ms/step - loss: 0.1388 - accuracy: 0.9627\n",
      "Epoch 55/100\n",
      "375/375 [==============================] - 1s 3ms/step - loss: 0.1367 - accuracy: 0.9630\n",
      "Epoch 56/100\n",
      "375/375 [==============================] - 1s 3ms/step - loss: 0.1347 - accuracy: 0.9630\n",
      "Epoch 57/100\n",
      "375/375 [==============================] - 1s 3ms/step - loss: 0.1328 - accuracy: 0.9638\n",
      "Epoch 58/100\n",
      "375/375 [==============================] - 1s 3ms/step - loss: 0.1309 - accuracy: 0.9637\n",
      "Epoch 59/100\n",
      "375/375 [==============================] - 1s 3ms/step - loss: 0.1292 - accuracy: 0.9640\n",
      "Epoch 60/100\n",
      "375/375 [==============================] - 1s 3ms/step - loss: 0.1275 - accuracy: 0.9641\n",
      "Epoch 61/100\n",
      "375/375 [==============================] - 1s 3ms/step - loss: 0.1259 - accuracy: 0.9643\n",
      "Epoch 62/100\n",
      "375/375 [==============================] - 1s 2ms/step - loss: 0.1243 - accuracy: 0.9643\n",
      "Epoch 63/100\n",
      "375/375 [==============================] - 1s 2ms/step - loss: 0.1228 - accuracy: 0.9644\n",
      "Epoch 64/100\n",
      "375/375 [==============================] - 1s 3ms/step - loss: 0.1213 - accuracy: 0.9645\n",
      "Epoch 65/100\n",
      "375/375 [==============================] - 1s 3ms/step - loss: 0.1198 - accuracy: 0.9650\n",
      "Epoch 66/100\n",
      "375/375 [==============================] - 1s 2ms/step - loss: 0.1185 - accuracy: 0.9655\n",
      "Epoch 67/100\n",
      "375/375 [==============================] - 1s 2ms/step - loss: 0.1171 - accuracy: 0.9659\n",
      "Epoch 68/100\n",
      "375/375 [==============================] - 1s 2ms/step - loss: 0.1158 - accuracy: 0.9658\n",
      "Epoch 69/100\n",
      "375/375 [==============================] - 1s 3ms/step - loss: 0.1145 - accuracy: 0.9663\n",
      "Epoch 70/100\n",
      "375/375 [==============================] - 1s 3ms/step - loss: 0.1132 - accuracy: 0.9666\n",
      "Epoch 71/100\n",
      "375/375 [==============================] - 1s 2ms/step - loss: 0.1120 - accuracy: 0.9669\n",
      "Epoch 72/100\n",
      "375/375 [==============================] - 1s 2ms/step - loss: 0.1108 - accuracy: 0.9676\n",
      "Epoch 73/100\n",
      "375/375 [==============================] - 1s 2ms/step - loss: 0.1097 - accuracy: 0.9674\n",
      "Epoch 74/100\n",
      "375/375 [==============================] - 1s 2ms/step - loss: 0.1085 - accuracy: 0.9676\n",
      "Epoch 75/100\n",
      "375/375 [==============================] - 1s 2ms/step - loss: 0.1074 - accuracy: 0.9679\n",
      "Epoch 76/100\n",
      "375/375 [==============================] - 1s 2ms/step - loss: 0.1063 - accuracy: 0.9680\n",
      "Epoch 77/100\n",
      "375/375 [==============================] - 1s 2ms/step - loss: 0.1053 - accuracy: 0.9682\n",
      "Epoch 78/100\n",
      "375/375 [==============================] - 1s 3ms/step - loss: 0.1042 - accuracy: 0.9683\n",
      "Epoch 79/100\n",
      "375/375 [==============================] - 1s 3ms/step - loss: 0.1032 - accuracy: 0.9688\n",
      "Epoch 80/100\n",
      "375/375 [==============================] - 1s 3ms/step - loss: 0.1021 - accuracy: 0.9690\n",
      "Epoch 81/100\n",
      "375/375 [==============================] - 1s 2ms/step - loss: 0.1012 - accuracy: 0.9688\n",
      "Epoch 82/100\n",
      "375/375 [==============================] - 1s 2ms/step - loss: 0.1002 - accuracy: 0.9689\n",
      "Epoch 83/100\n",
      "375/375 [==============================] - 1s 3ms/step - loss: 0.0992 - accuracy: 0.9691\n",
      "Epoch 84/100\n",
      "375/375 [==============================] - 1s 3ms/step - loss: 0.0983 - accuracy: 0.9691\n",
      "Epoch 85/100\n",
      "375/375 [==============================] - 1s 3ms/step - loss: 0.0973 - accuracy: 0.9692\n",
      "Epoch 86/100\n",
      "375/375 [==============================] - 1s 3ms/step - loss: 0.0964 - accuracy: 0.9693\n",
      "Epoch 87/100\n",
      "375/375 [==============================] - 1s 2ms/step - loss: 0.0955 - accuracy: 0.9696\n",
      "Epoch 88/100\n",
      "375/375 [==============================] - 1s 3ms/step - loss: 0.0947 - accuracy: 0.9699\n",
      "Epoch 89/100\n",
      "375/375 [==============================] - 1s 3ms/step - loss: 0.0938 - accuracy: 0.9698\n",
      "Epoch 90/100\n",
      "375/375 [==============================] - 1s 2ms/step - loss: 0.0929 - accuracy: 0.9701\n",
      "Epoch 91/100\n",
      "375/375 [==============================] - 1s 2ms/step - loss: 0.0921 - accuracy: 0.9705\n",
      "Epoch 92/100\n",
      "375/375 [==============================] - 1s 2ms/step - loss: 0.0913 - accuracy: 0.9707\n",
      "Epoch 93/100\n",
      "375/375 [==============================] - 1s 3ms/step - loss: 0.0904 - accuracy: 0.9710\n",
      "Epoch 94/100\n",
      "375/375 [==============================] - 1s 3ms/step - loss: 0.0897 - accuracy: 0.9708\n",
      "Epoch 95/100\n",
      "375/375 [==============================] - 1s 2ms/step - loss: 0.0889 - accuracy: 0.9713\n",
      "Epoch 96/100\n",
      "375/375 [==============================] - 1s 2ms/step - loss: 0.0881 - accuracy: 0.9713\n",
      "Epoch 97/100\n",
      "375/375 [==============================] - 1s 2ms/step - loss: 0.0874 - accuracy: 0.9718\n",
      "Epoch 98/100\n",
      "375/375 [==============================] - 1s 3ms/step - loss: 0.0866 - accuracy: 0.9722\n",
      "Epoch 99/100\n",
      "375/375 [==============================] - 1s 3ms/step - loss: 0.0859 - accuracy: 0.9723\n",
      "Epoch 100/100\n",
      "375/375 [==============================] - 1s 2ms/step - loss: 0.0852 - accuracy: 0.9726\n"
     ]
    },
    {
     "data": {
      "text/plain": [
       "<keras.callbacks.History at 0x1e3452609a0>"
      ]
     },
     "execution_count": 67,
     "metadata": {},
     "output_type": "execute_result"
    }
   ],
   "source": [
    "model2.fit(X_train.T, Y_train.T, epochs=100)"
   ]
  },
  {
   "cell_type": "code",
   "execution_count": 68,
   "metadata": {},
   "outputs": [
    {
     "name": "stdout",
     "output_type": "stream",
     "text": [
      "63/63 [==============================] - 0s 2ms/step\n"
     ]
    }
   ],
   "source": [
    "tf_pred2 = model2.predict(X_test.T)"
   ]
  },
  {
   "cell_type": "code",
   "execution_count": 69,
   "metadata": {},
   "outputs": [],
   "source": [
    "tf_pred2 = get_prediction(np.zeros((1, Y_test.shape[1])), tf_pred2.T)"
   ]
  },
  {
   "cell_type": "code",
   "execution_count": 70,
   "metadata": {},
   "outputs": [
    {
     "data": {
      "text/plain": [
       "1.0"
      ]
     },
     "execution_count": 70,
     "metadata": {},
     "output_type": "execute_result"
    }
   ],
   "source": [
    "tf_pred2[0, 1789]"
   ]
  },
  {
   "cell_type": "code",
   "execution_count": 71,
   "metadata": {},
   "outputs": [
    {
     "data": {
      "image/png": "[encoded data removed]",
      "text/plain": [
       "<Figure size 432x288 with 1 Axes>"
      ]
     },
     "metadata": {
      "needs_background": "light"
     },
     "output_type": "display_data"
    }
   ],
   "source": [
    "show_image(X_test[:, 1789])"
   ]
  },
  {
   "cell_type": "code",
   "execution_count": 72,
   "metadata": {},
   "outputs": [
    {
     "data": {
      "text/plain": [
       "0.0"
      ]
     },
     "execution_count": 72,
     "metadata": {},
     "output_type": "execute_result"
    }
   ],
   "source": [
    "tf_pred2[0, 1567]"
   ]
  },
  {
   "cell_type": "code",
   "execution_count": 73,
   "metadata": {},
   "outputs": [
    {
     "data": {
      "image/png": "[encoded data removed]",
      "text/plain": [
       "<Figure size 432x288 with 1 Axes>"
      ]
     },
     "metadata": {
      "needs_background": "light"
     },
     "output_type": "display_data"
    }
   ],
   "source": [
    "show_image(X_test[:, 1567])"
   ]
  },
  {
   "cell_type": "code",
   "execution_count": null,
   "metadata": {},
   "outputs": [],
   "source": []
  }
 ],
 "metadata": {
  "kernelspec": {
   "display_name": "base",
   "language": "python",
   "name": "python3"
  },
  "language_info": {
   "codemirror_mode": {
    "name": "ipython",
    "version": 3
   },
   "file_extension": ".py",
   "mimetype": "text/x-python",
   "name": "python",
   "nbconvert_exporter": "python",
   "pygments_lexer": "ipython3",
   "version": "3.9.12"
  },
  "orig_nbformat": 4
 },
 "nbformat": 4,
 "nbformat_minor": 2
}
