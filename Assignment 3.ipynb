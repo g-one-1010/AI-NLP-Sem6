{
 "cells": [
  {
   "attachments": {},
   "cell_type": "markdown",
   "metadata": {},
   "source": [
    "Link of dataset: https://www.kaggle.com/datasets/zalando-research/fashionmnist"
   ]
  },
  {
   "cell_type": "code",
   "execution_count": 1,
   "metadata": {},
   "outputs": [],
   "source": [
    "import numpy as np\n",
    "import pandas as pd\n",
    "import matplotlib.pyplot as plt"
   ]
  },
  {
   "cell_type": "code",
   "execution_count": 2,
   "metadata": {},
   "outputs": [],
   "source": [
    "test = pd.read_csv('./fashion-mnist_test.csv')\n",
    "train = pd.read_csv('./fashion-mnist_train.csv')"
   ]
  },
  {
   "attachments": {},
   "cell_type": "markdown",
   "metadata": {},
   "source": [
    "### Q1"
   ]
  },
  {
   "cell_type": "code",
   "execution_count": 3,
   "metadata": {},
   "outputs": [
    {
     "data": {
      "text/plain": [
       "((12000, 784), (12000,))"
      ]
     },
     "execution_count": 3,
     "metadata": {},
     "output_type": "execute_result"
    }
   ],
   "source": [
    "labels = [0, 1]\n",
    "X_train = train[train['label'].isin(labels)].reset_index(drop=True).drop('label', axis=1)\n",
    "Y_train = train['label'][train['label'].isin(labels)].reset_index(drop=True)\n",
    "X_train.shape, Y_train.shape"
   ]
  },
  {
   "cell_type": "code",
   "execution_count": 4,
   "metadata": {},
   "outputs": [
    {
     "data": {
      "text/plain": [
       "((2000, 784), (2000,))"
      ]
     },
     "execution_count": 4,
     "metadata": {},
     "output_type": "execute_result"
    }
   ],
   "source": [
    "X_test = test[test['label'].isin(labels)].reset_index(drop=True).drop('label', axis=1)\n",
    "Y_test = test['label'][test['label'].isin(labels)].reset_index(drop=True)\n",
    "X_test.shape, Y_test.shape"
   ]
  },
  {
   "cell_type": "code",
   "execution_count": 5,
   "metadata": {},
   "outputs": [
    {
     "data": {
      "text/plain": [
       "((784, 12000), (784, 2000), (1, 12000), (1, 12000))"
      ]
     },
     "execution_count": 5,
     "metadata": {},
     "output_type": "execute_result"
    }
   ],
   "source": [
    "X_train = (np.array(X_train).T)/255.\n",
    "X_test = (np.array(X_test).T)/255.\n",
    "Y_train = np.array(Y_train).reshape(1, -1)\n",
    "Y_test = np.array(Y_test).reshape(1, -1)\n",
    "X_train.shape, X_test.shape, Y_train.shape, Y_train.shape"
   ]
  },
  {
   "cell_type": "code",
   "execution_count": 6,
   "metadata": {},
   "outputs": [],
   "source": [
    "def show_image(x):\n",
    "    x = x.reshape(28, 28)\n",
    "    plt.imshow(x, cmap='gray')\n",
    "    plt.show"
   ]
  },
  {
   "cell_type": "code",
   "execution_count": 7,
   "metadata": {},
   "outputs": [
    {
     "data": {
      "image/png": "[encoded data removed]",
      "text/plain": [
       "<Figure size 432x288 with 1 Axes>"
      ]
     },
     "metadata": {
      "needs_background": "light"
     },
     "output_type": "display_data"
    }
   ],
   "source": [
    "show_image(X_train[:, 11050])"
   ]
  },
  {
   "cell_type": "code",
   "execution_count": 8,
   "metadata": {},
   "outputs": [
    {
     "data": {
      "image/png": "[encoded data removed]",
      "text/plain": [
       "<Figure size 432x288 with 1 Axes>"
      ]
     },
     "metadata": {
      "needs_background": "light"
     },
     "output_type": "display_data"
    }
   ],
   "source": [
    "show_image(X_train[:, 11000])"
   ]
  },
  {
   "attachments": {},
   "cell_type": "markdown",
   "metadata": {},
   "source": [
    "### Q2"
   ]
  },
  {
   "attachments": {},
   "cell_type": "markdown",
   "metadata": {},
   "source": [
    "Step by step implementation"
   ]
  },
  {
   "cell_type": "code",
   "execution_count": 9,
   "metadata": {},
   "outputs": [],
   "source": [
    "def init_params(dimension):\n",
    "    w = np.zeros((dimension, 1))\n",
    "    b = 0\n",
    "    return w, b"
   ]
  },
  {
   "cell_type": "code",
   "execution_count": 10,
   "metadata": {},
   "outputs": [],
   "source": [
    "def sigmoid(z):\n",
    "    return (1 / (1 + np.exp(-z)))"
   ]
  },
  {
   "cell_type": "code",
   "execution_count": 11,
   "metadata": {},
   "outputs": [],
   "source": [
    "def forward_prop(w, b, X):\n",
    "    z1 = np.dot(w.T,X) + b\n",
    "    prediction = sigmoid(z1)\n",
    "    return z1, prediction"
   ]
  },
  {
   "cell_type": "code",
   "execution_count": 12,
   "metadata": {},
   "outputs": [],
   "source": [
    "def backward_prop(X, Y, prediction):\n",
    "    m = X.shape[1]\n",
    "    \n",
    "    cost = (-1/m) * (np.sum(np.multiply(Y, np.log(prediction)) + np.multiply((1-Y), np.log(1-prediction))))\n",
    "\n",
    "    dw = (1/m) * (np.dot(X, (prediction - Y).T))\n",
    "    db = (1/m) * (np.sum(prediction - Y))\n",
    "\n",
    "    return dw, db, cost"
   ]
  },
  {
   "cell_type": "code",
   "execution_count": 13,
   "metadata": {},
   "outputs": [],
   "source": [
    "def update_params(w, b, dw, db, lr):\n",
    "    w = w - lr*dw\n",
    "    b = b - lr*db\n",
    "    return w, b"
   ]
  },
  {
   "cell_type": "code",
   "execution_count": 14,
   "metadata": {},
   "outputs": [],
   "source": [
    "def get_accuracy(prediction, Y):\n",
    "    return (100 - np.mean(np.abs(prediction - Y)) * 100)"
   ]
  },
  {
   "cell_type": "code",
   "execution_count": 15,
   "metadata": {},
   "outputs": [],
   "source": [
    "def get_prediction(prediction, Y_pred):\n",
    "    for i in range(Y_pred.shape[1]):\n",
    "        if Y_pred[0, i] <= 0.5:\n",
    "            prediction[0, i] = 0\n",
    "        else:\n",
    "            prediction[0, i] = 1\n",
    "    \n",
    "    return prediction"
   ]
  },
  {
   "cell_type": "code",
   "execution_count": 16,
   "metadata": {},
   "outputs": [],
   "source": [
    "def gradient_decent(X, Y, lr, epochs):\n",
    "    w, b = init_params(X.shape[0])\n",
    "    for i in range(epochs):\n",
    "        z, prediction = forward_prop(w, b, X)\n",
    "        dw, db, cost = backward_prop(X, Y, prediction)\n",
    "        w, b = update_params(w, b, dw, db, lr)\n",
    "\n",
    "        if i % 10 == 0:\n",
    "            print(f'Cost after {i} epochs: {cost}')\n",
    "            print(f'Accuracy after {i} epochs: {get_accuracy(get_prediction(np.zeros((1, X.shape[1])), prediction), Y)}')\n",
    "    \n",
    "    return w, b\n",
    "        "
   ]
  },
  {
   "cell_type": "code",
   "execution_count": 17,
   "metadata": {},
   "outputs": [],
   "source": [
    "def predict(X, w, b):\n",
    "    m = X.shape[1]\n",
    "    prediction = np.zeros((1, m))\n",
    "    z = np.dot(w.T, X) + b\n",
    "    Y_pred = sigmoid(z)\n",
    "\n",
    "    get_prediction(prediction, Y_pred)\n",
    "    \n",
    "    return prediction"
   ]
  },
  {
   "cell_type": "code",
   "execution_count": 18,
   "metadata": {},
   "outputs": [],
   "source": [
    "def s_model(X_train, Y_train, X_test, Y_test, lr, epochs):\n",
    "    w, b = gradient_decent(X_train, Y_train, lr, epochs)\n",
    "    Y_pred_train = predict(X_train, w, b)\n",
    "    Y_pred_test = predict(X_test, w, b)\n",
    "\n",
    "    print(f'\\nTraining accuracy: {get_accuracy(Y_pred_train, Y_train)}')\n",
    "    print(f'Testing accuracy: {get_accuracy(Y_pred_test, Y_test)}')\n",
    "    return Y_pred_test\n",
    "    "
   ]
  },
  {
   "cell_type": "code",
   "execution_count": 19,
   "metadata": {},
   "outputs": [
    {
     "name": "stdout",
     "output_type": "stream",
     "text": [
      "Cost after 0 epochs: 0.6931471805599452\n",
      "Accuracy after 0 epochs: 50.0\n",
      "Cost after 10 epochs: 0.6684914038136479\n",
      "Accuracy after 10 epochs: 91.54166666666667\n",
      "Cost after 20 epochs: 0.6459282519560937\n",
      "Accuracy after 20 epochs: 92.61666666666666\n",
      "Cost after 30 epochs: 0.6250397986018765\n",
      "Accuracy after 30 epochs: 93.275\n",
      "Cost after 40 epochs: 0.6055651981793925\n",
      "Accuracy after 40 epochs: 93.86666666666667\n",
      "Cost after 50 epochs: 0.5873304670923307\n",
      "Accuracy after 50 epochs: 94.31666666666666\n",
      "Cost after 60 epochs: 0.570210121327768\n",
      "Accuracy after 60 epochs: 94.55\n",
      "Cost after 70 epochs: 0.5541064996934573\n",
      "Accuracy after 70 epochs: 94.76666666666667\n",
      "Cost after 80 epochs: 0.5389386869756778\n",
      "Accuracy after 80 epochs: 94.98333333333333\n",
      "Cost after 90 epochs: 0.5246365743254272\n",
      "Accuracy after 90 epochs: 95.11666666666667\n",
      "\n",
      "Training accuracy: 95.24166666666667\n",
      "Testing accuracy: 95.65\n"
     ]
    }
   ],
   "source": [
    "Y_pred = s_model(X_train, Y_train, X_test, Y_test, 0.001, 100)"
   ]
  },
  {
   "cell_type": "code",
   "execution_count": 23,
   "metadata": {},
   "outputs": [
    {
     "data": {
      "text/plain": [
       "0.0"
      ]
     },
     "execution_count": 23,
     "metadata": {},
     "output_type": "execute_result"
    }
   ],
   "source": [
    "Y_pred[0, 1000]"
   ]
  },
  {
   "cell_type": "code",
   "execution_count": 24,
   "metadata": {},
   "outputs": [
    {
     "data": {
      "image/png": "[encoded data removed]",
      "text/plain": [
       "<Figure size 432x288 with 1 Axes>"
      ]
     },
     "metadata": {
      "needs_background": "light"
     },
     "output_type": "display_data"
    }
   ],
   "source": [
    "show_image(X_test[:, 1000])"
   ]
  },
  {
   "cell_type": "code",
   "execution_count": 25,
   "metadata": {},
   "outputs": [
    {
     "data": {
      "text/plain": [
       "1.0"
      ]
     },
     "execution_count": 25,
     "metadata": {},
     "output_type": "execute_result"
    }
   ],
   "source": [
    "Y_pred[0, 1111]"
   ]
  },
  {
   "cell_type": "code",
   "execution_count": 26,
   "metadata": {},
   "outputs": [
    {
     "data": {
      "image/png": "[encoded data removed]",
      "text/plain": [
       "<Figure size 432x288 with 1 Axes>"
      ]
     },
     "metadata": {
      "needs_background": "light"
     },
     "output_type": "display_data"
    }
   ],
   "source": [
    "show_image(X_test[:, 1111])"
   ]
  },
  {
   "cell_type": "code",
   "execution_count": 27,
   "metadata": {},
   "outputs": [
    {
     "data": {
      "text/plain": [
       "1.0"
      ]
     },
     "execution_count": 27,
     "metadata": {},
     "output_type": "execute_result"
    }
   ],
   "source": [
    "Y_pred[0, 100]"
   ]
  },
  {
   "cell_type": "code",
   "execution_count": 28,
   "metadata": {},
   "outputs": [
    {
     "data": {
      "image/png": "[encoded data removed]",
      "text/plain": [
       "<Figure size 432x288 with 1 Axes>"
      ]
     },
     "metadata": {
      "needs_background": "light"
     },
     "output_type": "display_data"
    }
   ],
   "source": [
    "show_image(X_test[:, 100])"
   ]
  },
  {
   "attachments": {},
   "cell_type": "markdown",
   "metadata": {},
   "source": [
    "Using tensorflow and no hidden layer"
   ]
  },
  {
   "cell_type": "code",
   "execution_count": 29,
   "metadata": {},
   "outputs": [],
   "source": [
    "import tensorflow as tf"
   ]
  },
  {
   "cell_type": "code",
   "execution_count": 30,
   "metadata": {},
   "outputs": [],
   "source": [
    "tf.random.set_seed(42)\n",
    "\n",
    "model = tf.keras.Sequential([\n",
    "    tf.keras.layers.Dense(1, activation='sigmoid')\n",
    "])"
   ]
  },
  {
   "cell_type": "code",
   "execution_count": 31,
   "metadata": {},
   "outputs": [],
   "source": [
    "model.compile(\n",
    "    loss=tf.keras.losses.binary_crossentropy,\n",
    "    optimizer=tf.keras.optimizers.SGD(learning_rate=0.001),\n",
    "    metrics=['accuracy']\n",
    ")"
   ]
  },
  {
   "cell_type": "code",
   "execution_count": 32,
   "metadata": {},
   "outputs": [
    {
     "name": "stdout",
     "output_type": "stream",
     "text": [
      "Epoch 1/100\n",
      "375/375 [==============================] - 1s 2ms/step - loss: 0.4247 - accuracy: 0.9118\n",
      "Epoch 2/100\n",
      "375/375 [==============================] - 1s 2ms/step - loss: 0.2637 - accuracy: 0.9543\n",
      "Epoch 3/100\n",
      "375/375 [==============================] - 1s 3ms/step - loss: 0.2115 - accuracy: 0.9567\n",
      "Epoch 4/100\n",
      "375/375 [==============================] - 1s 2ms/step - loss: 0.1848 - accuracy: 0.9584\n",
      "Epoch 5/100\n",
      "375/375 [==============================] - 1s 3ms/step - loss: 0.1679 - accuracy: 0.9594\n",
      "Epoch 6/100\n",
      "375/375 [==============================] - 1s 3ms/step - loss: 0.1560 - accuracy: 0.9617\n",
      "Epoch 7/100\n",
      "375/375 [==============================] - 1s 2ms/step - loss: 0.1470 - accuracy: 0.9622\n",
      "Epoch 8/100\n",
      "375/375 [==============================] - 1s 1ms/step - loss: 0.1397 - accuracy: 0.9632\n",
      "Epoch 9/100\n",
      "375/375 [==============================] - 1s 1ms/step - loss: 0.1337 - accuracy: 0.9643\n",
      "Epoch 10/100\n",
      "375/375 [==============================] - 1s 2ms/step - loss: 0.1286 - accuracy: 0.9653\n",
      "Epoch 11/100\n",
      "375/375 [==============================] - 1s 2ms/step - loss: 0.1241 - accuracy: 0.9661\n",
      "Epoch 12/100\n",
      "375/375 [==============================] - 1s 1ms/step - loss: 0.1201 - accuracy: 0.9671\n",
      "Epoch 13/100\n",
      "375/375 [==============================] - 1s 1ms/step - loss: 0.1166 - accuracy: 0.9677\n",
      "Epoch 14/100\n",
      "375/375 [==============================] - 1s 1ms/step - loss: 0.1134 - accuracy: 0.9681\n",
      "Epoch 15/100\n",
      "375/375 [==============================] - 1s 1ms/step - loss: 0.1105 - accuracy: 0.9686\n",
      "Epoch 16/100\n",
      "375/375 [==============================] - 1s 2ms/step - loss: 0.1079 - accuracy: 0.9692\n",
      "Epoch 17/100\n",
      "375/375 [==============================] - 1s 1ms/step - loss: 0.1054 - accuracy: 0.9697\n",
      "Epoch 18/100\n",
      "375/375 [==============================] - 1s 1ms/step - loss: 0.1032 - accuracy: 0.9705\n",
      "Epoch 19/100\n",
      "375/375 [==============================] - 1s 1ms/step - loss: 0.1011 - accuracy: 0.9711\n",
      "Epoch 20/100\n",
      "375/375 [==============================] - 1s 2ms/step - loss: 0.0991 - accuracy: 0.9714\n",
      "Epoch 21/100\n",
      "375/375 [==============================] - 1s 3ms/step - loss: 0.0973 - accuracy: 0.9718\n",
      "Epoch 22/100\n",
      "375/375 [==============================] - 1s 3ms/step - loss: 0.0956 - accuracy: 0.9722\n",
      "Epoch 23/100\n",
      "375/375 [==============================] - 1s 2ms/step - loss: 0.0941 - accuracy: 0.9728\n",
      "Epoch 24/100\n",
      "375/375 [==============================] - 1s 1ms/step - loss: 0.0926 - accuracy: 0.9731\n",
      "Epoch 25/100\n",
      "375/375 [==============================] - 1s 1ms/step - loss: 0.0912 - accuracy: 0.9732\n",
      "Epoch 26/100\n",
      "375/375 [==============================] - 1s 1ms/step - loss: 0.0899 - accuracy: 0.9734\n",
      "Epoch 27/100\n",
      "375/375 [==============================] - 1s 1ms/step - loss: 0.0886 - accuracy: 0.9739\n",
      "Epoch 28/100\n",
      "375/375 [==============================] - 1s 2ms/step - loss: 0.0874 - accuracy: 0.9742\n",
      "Epoch 29/100\n",
      "375/375 [==============================] - 1s 3ms/step - loss: 0.0863 - accuracy: 0.9747\n",
      "Epoch 30/100\n",
      "375/375 [==============================] - 1s 2ms/step - loss: 0.0853 - accuracy: 0.9751\n",
      "Epoch 31/100\n",
      "375/375 [==============================] - 1s 2ms/step - loss: 0.0843 - accuracy: 0.9754\n",
      "Epoch 32/100\n",
      "375/375 [==============================] - 1s 1ms/step - loss: 0.0833 - accuracy: 0.9758\n",
      "Epoch 33/100\n",
      "375/375 [==============================] - 1s 2ms/step - loss: 0.0824 - accuracy: 0.9758\n",
      "Epoch 34/100\n",
      "375/375 [==============================] - 1s 3ms/step - loss: 0.0815 - accuracy: 0.9760\n",
      "Epoch 35/100\n",
      "375/375 [==============================] - 1s 1ms/step - loss: 0.0807 - accuracy: 0.9763\n",
      "Epoch 36/100\n",
      "375/375 [==============================] - 1s 1ms/step - loss: 0.0799 - accuracy: 0.9765\n",
      "Epoch 37/100\n",
      "375/375 [==============================] - 1s 2ms/step - loss: 0.0791 - accuracy: 0.9768\n",
      "Epoch 38/100\n",
      "375/375 [==============================] - 1s 1ms/step - loss: 0.0784 - accuracy: 0.9772\n",
      "Epoch 39/100\n",
      "375/375 [==============================] - 1s 1ms/step - loss: 0.0777 - accuracy: 0.9777\n",
      "Epoch 40/100\n",
      "375/375 [==============================] - 1s 1ms/step - loss: 0.0770 - accuracy: 0.9775\n",
      "Epoch 41/100\n",
      "375/375 [==============================] - 1s 2ms/step - loss: 0.0764 - accuracy: 0.9776\n",
      "Epoch 42/100\n",
      "375/375 [==============================] - 1s 3ms/step - loss: 0.0758 - accuracy: 0.9782\n",
      "Epoch 43/100\n",
      "375/375 [==============================] - 1s 2ms/step - loss: 0.0752 - accuracy: 0.9782\n",
      "Epoch 44/100\n",
      "375/375 [==============================] - 1s 2ms/step - loss: 0.0746 - accuracy: 0.9787\n",
      "Epoch 45/100\n",
      "375/375 [==============================] - 1s 2ms/step - loss: 0.0740 - accuracy: 0.9791\n",
      "Epoch 46/100\n",
      "375/375 [==============================] - 1s 2ms/step - loss: 0.0735 - accuracy: 0.9793\n",
      "Epoch 47/100\n",
      "375/375 [==============================] - 1s 2ms/step - loss: 0.0730 - accuracy: 0.9793\n",
      "Epoch 48/100\n",
      "375/375 [==============================] - 1s 1ms/step - loss: 0.0725 - accuracy: 0.9794\n",
      "Epoch 49/100\n",
      "375/375 [==============================] - 1s 1ms/step - loss: 0.0720 - accuracy: 0.9795\n",
      "Epoch 50/100\n",
      "375/375 [==============================] - 1s 2ms/step - loss: 0.0715 - accuracy: 0.9797\n",
      "Epoch 51/100\n",
      "375/375 [==============================] - 1s 1ms/step - loss: 0.0711 - accuracy: 0.9797\n",
      "Epoch 52/100\n",
      "375/375 [==============================] - 1s 2ms/step - loss: 0.0706 - accuracy: 0.9796\n",
      "Epoch 53/100\n",
      "375/375 [==============================] - 1s 2ms/step - loss: 0.0702 - accuracy: 0.9797\n",
      "Epoch 54/100\n",
      "375/375 [==============================] - 1s 2ms/step - loss: 0.0698 - accuracy: 0.9797\n",
      "Epoch 55/100\n",
      "375/375 [==============================] - 1s 2ms/step - loss: 0.0694 - accuracy: 0.9798\n",
      "Epoch 56/100\n",
      "375/375 [==============================] - 1s 1ms/step - loss: 0.0690 - accuracy: 0.9797\n",
      "Epoch 57/100\n",
      "375/375 [==============================] - 1s 1ms/step - loss: 0.0686 - accuracy: 0.9797\n",
      "Epoch 58/100\n",
      "375/375 [==============================] - 1s 1ms/step - loss: 0.0683 - accuracy: 0.9797\n",
      "Epoch 59/100\n",
      "375/375 [==============================] - 1s 1ms/step - loss: 0.0679 - accuracy: 0.9800\n",
      "Epoch 60/100\n",
      "375/375 [==============================] - 1s 2ms/step - loss: 0.0676 - accuracy: 0.9803\n",
      "Epoch 61/100\n",
      "375/375 [==============================] - 1s 2ms/step - loss: 0.0672 - accuracy: 0.9800\n",
      "Epoch 62/100\n",
      "375/375 [==============================] - 1s 2ms/step - loss: 0.0669 - accuracy: 0.9801\n",
      "Epoch 63/100\n",
      "375/375 [==============================] - 1s 2ms/step - loss: 0.0666 - accuracy: 0.9803\n",
      "Epoch 64/100\n",
      "375/375 [==============================] - 1s 3ms/step - loss: 0.0662 - accuracy: 0.9804\n",
      "Epoch 65/100\n",
      "375/375 [==============================] - 1s 2ms/step - loss: 0.0659 - accuracy: 0.9803\n",
      "Epoch 66/100\n",
      "375/375 [==============================] - 1s 2ms/step - loss: 0.0656 - accuracy: 0.9808\n",
      "Epoch 67/100\n",
      "375/375 [==============================] - 1s 3ms/step - loss: 0.0653 - accuracy: 0.9808\n",
      "Epoch 68/100\n",
      "375/375 [==============================] - 1s 3ms/step - loss: 0.0651 - accuracy: 0.9807\n",
      "Epoch 69/100\n",
      "375/375 [==============================] - 1s 3ms/step - loss: 0.0648 - accuracy: 0.9808\n",
      "Epoch 70/100\n",
      "375/375 [==============================] - 1s 3ms/step - loss: 0.0645 - accuracy: 0.9806\n",
      "Epoch 71/100\n",
      "375/375 [==============================] - 2s 4ms/step - loss: 0.0642 - accuracy: 0.9809\n",
      "Epoch 72/100\n",
      "375/375 [==============================] - 1s 3ms/step - loss: 0.0640 - accuracy: 0.9811\n",
      "Epoch 73/100\n",
      "375/375 [==============================] - 1s 4ms/step - loss: 0.0637 - accuracy: 0.9812\n",
      "Epoch 74/100\n",
      "375/375 [==============================] - 1s 4ms/step - loss: 0.0635 - accuracy: 0.9812\n",
      "Epoch 75/100\n",
      "375/375 [==============================] - 2s 5ms/step - loss: 0.0632 - accuracy: 0.9812\n",
      "Epoch 76/100\n",
      "375/375 [==============================] - 1s 4ms/step - loss: 0.0630 - accuracy: 0.9812\n",
      "Epoch 77/100\n",
      "375/375 [==============================] - 2s 5ms/step - loss: 0.0628 - accuracy: 0.9812\n",
      "Epoch 78/100\n",
      "375/375 [==============================] - 2s 5ms/step - loss: 0.0625 - accuracy: 0.9814\n",
      "Epoch 79/100\n",
      "375/375 [==============================] - 2s 5ms/step - loss: 0.0623 - accuracy: 0.9815\n",
      "Epoch 80/100\n",
      "375/375 [==============================] - 2s 5ms/step - loss: 0.0621 - accuracy: 0.9813\n",
      "Epoch 81/100\n",
      "375/375 [==============================] - 2s 5ms/step - loss: 0.0619 - accuracy: 0.9815\n",
      "Epoch 82/100\n",
      "375/375 [==============================] - 1s 2ms/step - loss: 0.0616 - accuracy: 0.9817\n",
      "Epoch 83/100\n",
      "375/375 [==============================] - 1s 2ms/step - loss: 0.0614 - accuracy: 0.9817\n",
      "Epoch 84/100\n",
      "375/375 [==============================] - 1s 2ms/step - loss: 0.0612 - accuracy: 0.9816\n",
      "Epoch 85/100\n",
      "375/375 [==============================] - 1s 2ms/step - loss: 0.0610 - accuracy: 0.9816\n",
      "Epoch 86/100\n",
      "375/375 [==============================] - 1s 2ms/step - loss: 0.0608 - accuracy: 0.9818\n",
      "Epoch 87/100\n",
      "375/375 [==============================] - 1s 2ms/step - loss: 0.0606 - accuracy: 0.9819\n",
      "Epoch 88/100\n",
      "375/375 [==============================] - 1s 2ms/step - loss: 0.0604 - accuracy: 0.9817\n",
      "Epoch 89/100\n",
      "375/375 [==============================] - 1s 2ms/step - loss: 0.0603 - accuracy: 0.9818\n",
      "Epoch 90/100\n",
      "375/375 [==============================] - 1s 1ms/step - loss: 0.0601 - accuracy: 0.9818\n",
      "Epoch 91/100\n",
      "375/375 [==============================] - 1s 2ms/step - loss: 0.0599 - accuracy: 0.9818\n",
      "Epoch 92/100\n",
      "375/375 [==============================] - 1s 2ms/step - loss: 0.0597 - accuracy: 0.9818\n",
      "Epoch 93/100\n",
      "375/375 [==============================] - 1s 2ms/step - loss: 0.0595 - accuracy: 0.9820\n",
      "Epoch 94/100\n",
      "375/375 [==============================] - 1s 1ms/step - loss: 0.0594 - accuracy: 0.9820\n",
      "Epoch 95/100\n",
      "375/375 [==============================] - 1s 2ms/step - loss: 0.0592 - accuracy: 0.9822\n",
      "Epoch 96/100\n",
      "375/375 [==============================] - 1s 2ms/step - loss: 0.0590 - accuracy: 0.9821\n",
      "Epoch 97/100\n",
      "375/375 [==============================] - 1s 2ms/step - loss: 0.0589 - accuracy: 0.9821\n",
      "Epoch 98/100\n",
      "375/375 [==============================] - 1s 2ms/step - loss: 0.0587 - accuracy: 0.9821\n",
      "Epoch 99/100\n",
      "375/375 [==============================] - 1s 2ms/step - loss: 0.0585 - accuracy: 0.9821\n",
      "Epoch 100/100\n",
      "375/375 [==============================] - 1s 2ms/step - loss: 0.0584 - accuracy: 0.9822\n"
     ]
    },
    {
     "data": {
      "text/plain": [
       "<keras.callbacks.History at 0x1895b338f70>"
      ]
     },
     "execution_count": 32,
     "metadata": {},
     "output_type": "execute_result"
    }
   ],
   "source": [
    "model.fit(X_train.T, Y_train.T, epochs=100)"
   ]
  },
  {
   "cell_type": "code",
   "execution_count": 33,
   "metadata": {},
   "outputs": [
    {
     "name": "stdout",
     "output_type": "stream",
     "text": [
      "63/63 [==============================] - 0s 1ms/step\n"
     ]
    }
   ],
   "source": [
    "tf_pred = model.predict(X_test.T)\n"
   ]
  },
  {
   "cell_type": "code",
   "execution_count": 34,
   "metadata": {},
   "outputs": [],
   "source": [
    "tf_pred = get_prediction(np.zeros((1, Y_test.shape[1])),tf_pred.T)"
   ]
  },
  {
   "cell_type": "code",
   "execution_count": 35,
   "metadata": {},
   "outputs": [
    {
     "name": "stdout",
     "output_type": "stream",
     "text": [
      "Accuracy of tensorflow model: 98.15\n"
     ]
    }
   ],
   "source": [
    "print(f'Accuracy of tensorflow model: {get_accuracy(tf_pred, Y_test)}')"
   ]
  },
  {
   "cell_type": "code",
   "execution_count": 36,
   "metadata": {},
   "outputs": [
    {
     "data": {
      "text/plain": [
       "0.0"
      ]
     },
     "execution_count": 36,
     "metadata": {},
     "output_type": "execute_result"
    }
   ],
   "source": [
    "tf_pred[0, 1234]"
   ]
  },
  {
   "cell_type": "code",
   "execution_count": 37,
   "metadata": {},
   "outputs": [
    {
     "data": {
      "image/png": "[encoded data removed]",
      "text/plain": [
       "<Figure size 432x288 with 1 Axes>"
      ]
     },
     "metadata": {
      "needs_background": "light"
     },
     "output_type": "display_data"
    }
   ],
   "source": [
    "show_image(X_test[:, 1234])"
   ]
  },
  {
   "cell_type": "code",
   "execution_count": 38,
   "metadata": {},
   "outputs": [
    {
     "data": {
      "text/plain": [
       "1.0"
      ]
     },
     "execution_count": 38,
     "metadata": {},
     "output_type": "execute_result"
    }
   ],
   "source": [
    "tf_pred[0, 1589]"
   ]
  },
  {
   "cell_type": "code",
   "execution_count": 39,
   "metadata": {},
   "outputs": [
    {
     "data": {
      "image/png": "[encoded data removed]",
      "text/plain": [
       "<Figure size 432x288 with 1 Axes>"
      ]
     },
     "metadata": {
      "needs_background": "light"
     },
     "output_type": "display_data"
    }
   ],
   "source": [
    "show_image(X_test[:, 1589])"
   ]
  },
  {
   "cell_type": "code",
   "execution_count": 40,
   "metadata": {},
   "outputs": [
    {
     "data": {
      "text/plain": [
       "1.0"
      ]
     },
     "execution_count": 40,
     "metadata": {},
     "output_type": "execute_result"
    }
   ],
   "source": [
    "tf_pred[0, 100]"
   ]
  },
  {
   "cell_type": "code",
   "execution_count": 41,
   "metadata": {},
   "outputs": [
    {
     "data": {
      "image/png": "[encoded data removed]",
      "text/plain": [
       "<Figure size 432x288 with 1 Axes>"
      ]
     },
     "metadata": {
      "needs_background": "light"
     },
     "output_type": "display_data"
    }
   ],
   "source": [
    "show_image(X_test[:, 100])\n"
   ]
  },
  {
   "attachments": {},
   "cell_type": "markdown",
   "metadata": {},
   "source": [
    "### Q3"
   ]
  },
  {
   "cell_type": "code",
   "execution_count": 42,
   "metadata": {},
   "outputs": [],
   "source": [
    "model2 = tf.keras.Sequential([\n",
    "    tf.keras.layers.Dense(100, activation='sigmoid'),\n",
    "    tf.keras.layers.Dense(100, activation='sigmoid'),\n",
    "    tf.keras.layers.Dense(1, activation='sigmoid')\n",
    "])"
   ]
  },
  {
   "cell_type": "code",
   "execution_count": 43,
   "metadata": {},
   "outputs": [],
   "source": [
    "model2.compile(\n",
    "    loss=tf.keras.losses.binary_crossentropy,\n",
    "    optimizer=tf.keras.optimizers.SGD(learning_rate=0.001),\n",
    "    metrics=['accuracy']\n",
    ")"
   ]
  },
  {
   "cell_type": "code",
   "execution_count": 44,
   "metadata": {},
   "outputs": [
    {
     "name": "stdout",
     "output_type": "stream",
     "text": [
      "Epoch 1/100\n",
      "375/375 [==============================] - 2s 2ms/step - loss: 0.7063 - accuracy: 0.5238\n",
      "Epoch 2/100\n",
      "375/375 [==============================] - 1s 2ms/step - loss: 0.6777 - accuracy: 0.7761\n",
      "Epoch 3/100\n",
      "375/375 [==============================] - 1s 2ms/step - loss: 0.6706 - accuracy: 0.8269\n",
      "Epoch 4/100\n",
      "375/375 [==============================] - 1s 2ms/step - loss: 0.6633 - accuracy: 0.8553\n",
      "Epoch 5/100\n",
      "375/375 [==============================] - 1s 2ms/step - loss: 0.6558 - accuracy: 0.8700\n",
      "Epoch 6/100\n",
      "375/375 [==============================] - 1s 2ms/step - loss: 0.6478 - accuracy: 0.8847\n",
      "Epoch 7/100\n",
      "375/375 [==============================] - 1s 2ms/step - loss: 0.6394 - accuracy: 0.8960\n",
      "Epoch 8/100\n",
      "375/375 [==============================] - 1s 2ms/step - loss: 0.6304 - accuracy: 0.9013\n",
      "Epoch 9/100\n",
      "375/375 [==============================] - 1s 2ms/step - loss: 0.6206 - accuracy: 0.9060\n",
      "Epoch 10/100\n",
      "375/375 [==============================] - 1s 2ms/step - loss: 0.6103 - accuracy: 0.9181\n",
      "Epoch 11/100\n",
      "375/375 [==============================] - 1s 2ms/step - loss: 0.5990 - accuracy: 0.9163\n",
      "Epoch 12/100\n",
      "375/375 [==============================] - 1s 2ms/step - loss: 0.5868 - accuracy: 0.9238\n",
      "Epoch 13/100\n",
      "375/375 [==============================] - 1s 2ms/step - loss: 0.5737 - accuracy: 0.9283\n",
      "Epoch 14/100\n",
      "375/375 [==============================] - 1s 2ms/step - loss: 0.5595 - accuracy: 0.9298\n",
      "Epoch 15/100\n",
      "375/375 [==============================] - 1s 2ms/step - loss: 0.5445 - accuracy: 0.9357\n",
      "Epoch 16/100\n",
      "375/375 [==============================] - 1s 2ms/step - loss: 0.5284 - accuracy: 0.9373\n",
      "Epoch 17/100\n",
      "375/375 [==============================] - 1s 2ms/step - loss: 0.5114 - accuracy: 0.9383\n",
      "Epoch 18/100\n",
      "375/375 [==============================] - 1s 2ms/step - loss: 0.4937 - accuracy: 0.9410\n",
      "Epoch 19/100\n",
      "375/375 [==============================] - 1s 2ms/step - loss: 0.4752 - accuracy: 0.9423\n",
      "Epoch 20/100\n",
      "375/375 [==============================] - 1s 2ms/step - loss: 0.4562 - accuracy: 0.9447\n",
      "Epoch 21/100\n",
      "375/375 [==============================] - 1s 2ms/step - loss: 0.4371 - accuracy: 0.9451\n",
      "Epoch 22/100\n",
      "375/375 [==============================] - 1s 2ms/step - loss: 0.4177 - accuracy: 0.9473\n",
      "Epoch 23/100\n",
      "375/375 [==============================] - 1s 2ms/step - loss: 0.3985 - accuracy: 0.9481\n",
      "Epoch 24/100\n",
      "375/375 [==============================] - 1s 2ms/step - loss: 0.3797 - accuracy: 0.9492\n",
      "Epoch 25/100\n",
      "375/375 [==============================] - 1s 2ms/step - loss: 0.3614 - accuracy: 0.9500\n",
      "Epoch 26/100\n",
      "375/375 [==============================] - 1s 2ms/step - loss: 0.3438 - accuracy: 0.9510\n",
      "Epoch 27/100\n",
      "375/375 [==============================] - 1s 2ms/step - loss: 0.3270 - accuracy: 0.9517\n",
      "Epoch 28/100\n",
      "375/375 [==============================] - 1s 2ms/step - loss: 0.3112 - accuracy: 0.9524\n",
      "Epoch 29/100\n",
      "375/375 [==============================] - 1s 2ms/step - loss: 0.2963 - accuracy: 0.9533\n",
      "Epoch 30/100\n",
      "375/375 [==============================] - 1s 2ms/step - loss: 0.2825 - accuracy: 0.9538\n",
      "Epoch 31/100\n",
      "375/375 [==============================] - 1s 2ms/step - loss: 0.2697 - accuracy: 0.9541\n",
      "Epoch 32/100\n",
      "375/375 [==============================] - 1s 2ms/step - loss: 0.2579 - accuracy: 0.9543\n",
      "Epoch 33/100\n",
      "375/375 [==============================] - 1s 2ms/step - loss: 0.2470 - accuracy: 0.9551\n",
      "Epoch 34/100\n",
      "375/375 [==============================] - 1s 2ms/step - loss: 0.2370 - accuracy: 0.9555\n",
      "Epoch 35/100\n",
      "375/375 [==============================] - 1s 2ms/step - loss: 0.2278 - accuracy: 0.9562\n",
      "Epoch 36/100\n",
      "375/375 [==============================] - 1s 2ms/step - loss: 0.2194 - accuracy: 0.9562\n",
      "Epoch 37/100\n",
      "375/375 [==============================] - 1s 2ms/step - loss: 0.2117 - accuracy: 0.9567\n",
      "Epoch 38/100\n",
      "375/375 [==============================] - 1s 2ms/step - loss: 0.2046 - accuracy: 0.9567\n",
      "Epoch 39/100\n",
      "375/375 [==============================] - 1s 2ms/step - loss: 0.1981 - accuracy: 0.9566\n",
      "Epoch 40/100\n",
      "375/375 [==============================] - 1s 2ms/step - loss: 0.1921 - accuracy: 0.9574\n",
      "Epoch 41/100\n",
      "375/375 [==============================] - 1s 2ms/step - loss: 0.1866 - accuracy: 0.9578\n",
      "Epoch 42/100\n",
      "375/375 [==============================] - 1s 2ms/step - loss: 0.1815 - accuracy: 0.9579\n",
      "Epoch 43/100\n",
      "375/375 [==============================] - 1s 2ms/step - loss: 0.1768 - accuracy: 0.9585\n",
      "Epoch 44/100\n",
      "375/375 [==============================] - 1s 2ms/step - loss: 0.1725 - accuracy: 0.9586\n",
      "Epoch 45/100\n",
      "375/375 [==============================] - 1s 2ms/step - loss: 0.1685 - accuracy: 0.9588\n",
      "Epoch 46/100\n",
      "375/375 [==============================] - 1s 2ms/step - loss: 0.1647 - accuracy: 0.9592\n",
      "Epoch 47/100\n",
      "375/375 [==============================] - 1s 2ms/step - loss: 0.1612 - accuracy: 0.9595\n",
      "Epoch 48/100\n",
      "375/375 [==============================] - 1s 2ms/step - loss: 0.1579 - accuracy: 0.9598\n",
      "Epoch 49/100\n",
      "375/375 [==============================] - 1s 2ms/step - loss: 0.1548 - accuracy: 0.9598\n",
      "Epoch 50/100\n",
      "375/375 [==============================] - 1s 2ms/step - loss: 0.1520 - accuracy: 0.9600\n",
      "Epoch 51/100\n",
      "375/375 [==============================] - 1s 3ms/step - loss: 0.1493 - accuracy: 0.9601\n",
      "Epoch 52/100\n",
      "375/375 [==============================] - 1s 2ms/step - loss: 0.1467 - accuracy: 0.9603\n",
      "Epoch 53/100\n",
      "375/375 [==============================] - 1s 2ms/step - loss: 0.1442 - accuracy: 0.9607\n",
      "Epoch 54/100\n",
      "375/375 [==============================] - 1s 2ms/step - loss: 0.1419 - accuracy: 0.9609\n",
      "Epoch 55/100\n",
      "375/375 [==============================] - 1s 2ms/step - loss: 0.1398 - accuracy: 0.9613\n",
      "Epoch 56/100\n",
      "375/375 [==============================] - 1s 2ms/step - loss: 0.1377 - accuracy: 0.9613\n",
      "Epoch 57/100\n",
      "375/375 [==============================] - 1s 2ms/step - loss: 0.1357 - accuracy: 0.9617\n",
      "Epoch 58/100\n",
      "375/375 [==============================] - 1s 2ms/step - loss: 0.1338 - accuracy: 0.9617\n",
      "Epoch 59/100\n",
      "375/375 [==============================] - 1s 2ms/step - loss: 0.1319 - accuracy: 0.9621\n",
      "Epoch 60/100\n",
      "375/375 [==============================] - 1s 2ms/step - loss: 0.1302 - accuracy: 0.9622\n",
      "Epoch 61/100\n",
      "375/375 [==============================] - 1s 2ms/step - loss: 0.1285 - accuracy: 0.9630\n",
      "Epoch 62/100\n",
      "375/375 [==============================] - 1s 2ms/step - loss: 0.1269 - accuracy: 0.9631\n",
      "Epoch 63/100\n",
      "375/375 [==============================] - 1s 2ms/step - loss: 0.1253 - accuracy: 0.9632\n",
      "Epoch 64/100\n",
      "375/375 [==============================] - 1s 2ms/step - loss: 0.1238 - accuracy: 0.9632\n",
      "Epoch 65/100\n",
      "375/375 [==============================] - 1s 2ms/step - loss: 0.1223 - accuracy: 0.9638\n",
      "Epoch 66/100\n",
      "375/375 [==============================] - 1s 3ms/step - loss: 0.1209 - accuracy: 0.9638\n",
      "Epoch 67/100\n",
      "375/375 [==============================] - 1s 2ms/step - loss: 0.1195 - accuracy: 0.9643\n",
      "Epoch 68/100\n",
      "375/375 [==============================] - 1s 2ms/step - loss: 0.1182 - accuracy: 0.9643\n",
      "Epoch 69/100\n",
      "375/375 [==============================] - 1s 2ms/step - loss: 0.1169 - accuracy: 0.9644\n",
      "Epoch 70/100\n",
      "375/375 [==============================] - 1s 3ms/step - loss: 0.1156 - accuracy: 0.9645\n",
      "Epoch 71/100\n",
      "375/375 [==============================] - 1s 2ms/step - loss: 0.1143 - accuracy: 0.9650\n",
      "Epoch 72/100\n",
      "375/375 [==============================] - 1s 2ms/step - loss: 0.1131 - accuracy: 0.9654\n",
      "Epoch 73/100\n",
      "375/375 [==============================] - 1s 2ms/step - loss: 0.1120 - accuracy: 0.9660\n",
      "Epoch 74/100\n",
      "375/375 [==============================] - 1s 2ms/step - loss: 0.1108 - accuracy: 0.9663\n",
      "Epoch 75/100\n",
      "375/375 [==============================] - 1s 2ms/step - loss: 0.1097 - accuracy: 0.9663\n",
      "Epoch 76/100\n",
      "375/375 [==============================] - 1s 2ms/step - loss: 0.1086 - accuracy: 0.9669\n",
      "Epoch 77/100\n",
      "375/375 [==============================] - 1s 2ms/step - loss: 0.1075 - accuracy: 0.9673\n",
      "Epoch 78/100\n",
      "375/375 [==============================] - 1s 2ms/step - loss: 0.1064 - accuracy: 0.9671\n",
      "Epoch 79/100\n",
      "375/375 [==============================] - 1s 2ms/step - loss: 0.1054 - accuracy: 0.9673\n",
      "Epoch 80/100\n",
      "375/375 [==============================] - 1s 2ms/step - loss: 0.1044 - accuracy: 0.9673\n",
      "Epoch 81/100\n",
      "375/375 [==============================] - 1s 2ms/step - loss: 0.1034 - accuracy: 0.9672\n",
      "Epoch 82/100\n",
      "375/375 [==============================] - 1s 2ms/step - loss: 0.1024 - accuracy: 0.9676\n",
      "Epoch 83/100\n",
      "375/375 [==============================] - 1s 2ms/step - loss: 0.1014 - accuracy: 0.9674\n",
      "Epoch 84/100\n",
      "375/375 [==============================] - 1s 2ms/step - loss: 0.1005 - accuracy: 0.9680\n",
      "Epoch 85/100\n",
      "375/375 [==============================] - 1s 2ms/step - loss: 0.0995 - accuracy: 0.9681\n",
      "Epoch 86/100\n",
      "375/375 [==============================] - 1s 2ms/step - loss: 0.0986 - accuracy: 0.9681\n",
      "Epoch 87/100\n",
      "375/375 [==============================] - 1s 2ms/step - loss: 0.0977 - accuracy: 0.9685\n",
      "Epoch 88/100\n",
      "375/375 [==============================] - 1s 2ms/step - loss: 0.0968 - accuracy: 0.9688\n",
      "Epoch 89/100\n",
      "375/375 [==============================] - 1s 2ms/step - loss: 0.0960 - accuracy: 0.9688\n",
      "Epoch 90/100\n",
      "375/375 [==============================] - 1s 2ms/step - loss: 0.0951 - accuracy: 0.9691\n",
      "Epoch 91/100\n",
      "375/375 [==============================] - 1s 2ms/step - loss: 0.0943 - accuracy: 0.9693\n",
      "Epoch 92/100\n",
      "375/375 [==============================] - 1s 2ms/step - loss: 0.0935 - accuracy: 0.9697\n",
      "Epoch 93/100\n",
      "375/375 [==============================] - 1s 2ms/step - loss: 0.0926 - accuracy: 0.9697\n",
      "Epoch 94/100\n",
      "375/375 [==============================] - 1s 2ms/step - loss: 0.0919 - accuracy: 0.9698\n",
      "Epoch 95/100\n",
      "375/375 [==============================] - 1s 2ms/step - loss: 0.0911 - accuracy: 0.9702\n",
      "Epoch 96/100\n",
      "375/375 [==============================] - 1s 2ms/step - loss: 0.0903 - accuracy: 0.9703\n",
      "Epoch 97/100\n",
      "375/375 [==============================] - 1s 2ms/step - loss: 0.0895 - accuracy: 0.9707\n",
      "Epoch 98/100\n",
      "375/375 [==============================] - 1s 2ms/step - loss: 0.0888 - accuracy: 0.9713\n",
      "Epoch 99/100\n",
      "375/375 [==============================] - 1s 2ms/step - loss: 0.0881 - accuracy: 0.9713\n",
      "Epoch 100/100\n",
      "375/375 [==============================] - 1s 2ms/step - loss: 0.0874 - accuracy: 0.9717\n"
     ]
    },
    {
     "data": {
      "text/plain": [
       "<keras.callbacks.History at 0x1895c17af70>"
      ]
     },
     "execution_count": 44,
     "metadata": {},
     "output_type": "execute_result"
    }
   ],
   "source": [
    "model2.fit(X_train.T, Y_train.T, epochs=100)"
   ]
  },
  {
   "cell_type": "code",
   "execution_count": 45,
   "metadata": {},
   "outputs": [
    {
     "name": "stdout",
     "output_type": "stream",
     "text": [
      "63/63 [==============================] - 0s 2ms/step\n"
     ]
    }
   ],
   "source": [
    "tf_pred2 = model2.predict(X_test.T)"
   ]
  },
  {
   "cell_type": "code",
   "execution_count": 46,
   "metadata": {},
   "outputs": [],
   "source": [
    "tf_pred2 = get_prediction(np.zeros((1, Y_test.shape[1])), tf_pred2.T)"
   ]
  },
  {
   "cell_type": "code",
   "execution_count": 47,
   "metadata": {},
   "outputs": [
    {
     "data": {
      "text/plain": [
       "1.0"
      ]
     },
     "execution_count": 47,
     "metadata": {},
     "output_type": "execute_result"
    }
   ],
   "source": [
    "tf_pred2[0, 1789]"
   ]
  },
  {
   "cell_type": "code",
   "execution_count": 48,
   "metadata": {},
   "outputs": [
    {
     "data": {
      "image/png": "[encoded data removed]",
      "text/plain": [
       "<Figure size 432x288 with 1 Axes>"
      ]
     },
     "metadata": {
      "needs_background": "light"
     },
     "output_type": "display_data"
    }
   ],
   "source": [
    "show_image(X_test[:, 1789])"
   ]
  },
  {
   "cell_type": "code",
   "execution_count": 49,
   "metadata": {},
   "outputs": [
    {
     "data": {
      "text/plain": [
       "0.0"
      ]
     },
     "execution_count": 49,
     "metadata": {},
     "output_type": "execute_result"
    }
   ],
   "source": [
    "tf_pred2[0, 1567]"
   ]
  },
  {
   "cell_type": "code",
   "execution_count": 50,
   "metadata": {},
   "outputs": [
    {
     "data": {
      "image/png": "[encoded data removed]",
      "text/plain": [
       "<Figure size 432x288 with 1 Axes>"
      ]
     },
     "metadata": {
      "needs_background": "light"
     },
     "output_type": "display_data"
    }
   ],
   "source": [
    "show_image(X_test[:, 1567])"
   ]
  },
  {
   "cell_type": "code",
   "execution_count": 51,
   "metadata": {},
   "outputs": [
    {
     "data": {
      "text/plain": [
       "1.0"
      ]
     },
     "execution_count": 51,
     "metadata": {},
     "output_type": "execute_result"
    }
   ],
   "source": [
    "tf_pred2[0, 100]"
   ]
  },
  {
   "cell_type": "code",
   "execution_count": 52,
   "metadata": {},
   "outputs": [
    {
     "data": {
      "image/png": "[encoded data removed]",
      "text/plain": [
       "<Figure size 432x288 with 1 Axes>"
      ]
     },
     "metadata": {
      "needs_background": "light"
     },
     "output_type": "display_data"
    }
   ],
   "source": [
    "show_image(X_test[:, 100])"
   ]
  }
 ],
 "metadata": {
  "kernelspec": {
   "display_name": "base",
   "language": "python",
   "name": "python3"
  },
  "language_info": {
   "codemirror_mode": {
    "name": "ipython",
    "version": 3
   },
   "file_extension": ".py",
   "mimetype": "text/x-python",
   "name": "python",
   "nbconvert_exporter": "python",
   "pygments_lexer": "ipython3",
   "version": "3.9.12"
  },
  "orig_nbformat": 4
 },
 "nbformat": 4,
 "nbformat_minor": 2
}
